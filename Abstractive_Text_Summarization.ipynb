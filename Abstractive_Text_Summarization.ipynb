{
  "cells": [
    {
      "cell_type": "markdown",
      "metadata": {
        "id": "view-in-github",
        "colab_type": "text"
      },
      "source": [
        "<a href=\"https://colab.research.google.com/github/pravincoder/Sign-Language-Interpreter-using-Deep-Learning/blob/master/Abstractive_Text_Summarization.ipynb\" target=\"_parent\"><img src=\"https://colab.research.google.com/assets/colab-badge.svg\" alt=\"Open In Colab\"/></a>"
      ]
    },
    {
      "cell_type": "markdown",
      "metadata": {
        "id": "WRRnpAtAUZjz"
      },
      "source": [
        "# Installation and Import block"
      ]
    },
    {
      "cell_type": "code",
      "execution_count": 72,
      "metadata": {
        "colab": {
          "base_uri": "https://localhost:8080/"
        },
        "id": "m5N9RaMrbl-G",
        "outputId": "6661cf48-5308-4330-c948-744526aca359"
      },
      "outputs": [
        {
          "output_type": "stream",
          "name": "stdout",
          "text": [
            "Looking in indexes: https://pypi.org/simple, https://us-python.pkg.dev/colab-wheels/public/simple/\n",
            "Requirement already satisfied: numpy in /usr/local/lib/python3.8/dist-packages (1.21.6)\n",
            "Requirement already satisfied: pandas in /usr/local/lib/python3.8/dist-packages (1.3.5)\n",
            "Requirement already satisfied: python-dateutil>=2.7.3 in /usr/local/lib/python3.8/dist-packages (from pandas) (2.8.2)\n",
            "Requirement already satisfied: pytz>=2017.3 in /usr/local/lib/python3.8/dist-packages (from pandas) (2022.7)\n",
            "Requirement already satisfied: six>=1.5 in /usr/local/lib/python3.8/dist-packages (from python-dateutil>=2.7.3->pandas) (1.15.0)\n",
            "Looking in indexes: https://pypi.org/simple, https://us-python.pkg.dev/colab-wheels/public/simple/\n",
            "Requirement already satisfied: tensorflow in /usr/local/lib/python3.8/dist-packages (2.9.2)\n",
            "Requirement already satisfied: tensorboard<2.10,>=2.9 in /usr/local/lib/python3.8/dist-packages (from tensorflow) (2.9.1)\n",
            "Requirement already satisfied: termcolor>=1.1.0 in /usr/local/lib/python3.8/dist-packages (from tensorflow) (2.2.0)\n",
            "Requirement already satisfied: absl-py>=1.0.0 in /usr/local/lib/python3.8/dist-packages (from tensorflow) (1.3.0)\n",
            "Requirement already satisfied: keras-preprocessing>=1.1.1 in /usr/local/lib/python3.8/dist-packages (from tensorflow) (1.1.2)\n",
            "Requirement already satisfied: google-pasta>=0.1.1 in /usr/local/lib/python3.8/dist-packages (from tensorflow) (0.2.0)\n",
            "Requirement already satisfied: flatbuffers<2,>=1.12 in /usr/local/lib/python3.8/dist-packages (from tensorflow) (1.12)\n",
            "Requirement already satisfied: six>=1.12.0 in /usr/local/lib/python3.8/dist-packages (from tensorflow) (1.15.0)\n",
            "Requirement already satisfied: gast<=0.4.0,>=0.2.1 in /usr/local/lib/python3.8/dist-packages (from tensorflow) (0.4.0)\n",
            "Requirement already satisfied: astunparse>=1.6.0 in /usr/local/lib/python3.8/dist-packages (from tensorflow) (1.6.3)\n",
            "Requirement already satisfied: h5py>=2.9.0 in /usr/local/lib/python3.8/dist-packages (from tensorflow) (3.1.0)\n",
            "Requirement already satisfied: keras<2.10.0,>=2.9.0rc0 in /usr/local/lib/python3.8/dist-packages (from tensorflow) (2.9.0)\n",
            "Requirement already satisfied: packaging in /usr/local/lib/python3.8/dist-packages (from tensorflow) (21.3)\n",
            "Requirement already satisfied: tensorflow-estimator<2.10.0,>=2.9.0rc0 in /usr/local/lib/python3.8/dist-packages (from tensorflow) (2.9.0)\n",
            "Requirement already satisfied: setuptools in /usr/local/lib/python3.8/dist-packages (from tensorflow) (57.4.0)\n",
            "Requirement already satisfied: tensorflow-io-gcs-filesystem>=0.23.1 in /usr/local/lib/python3.8/dist-packages (from tensorflow) (0.29.0)\n",
            "Requirement already satisfied: opt-einsum>=2.3.2 in /usr/local/lib/python3.8/dist-packages (from tensorflow) (3.3.0)\n",
            "Requirement already satisfied: wrapt>=1.11.0 in /usr/local/lib/python3.8/dist-packages (from tensorflow) (1.14.1)\n",
            "Requirement already satisfied: typing-extensions>=3.6.6 in /usr/local/lib/python3.8/dist-packages (from tensorflow) (4.4.0)\n",
            "Requirement already satisfied: libclang>=13.0.0 in /usr/local/lib/python3.8/dist-packages (from tensorflow) (14.0.6)\n",
            "Requirement already satisfied: grpcio<2.0,>=1.24.3 in /usr/local/lib/python3.8/dist-packages (from tensorflow) (1.51.1)\n",
            "Requirement already satisfied: numpy>=1.20 in /usr/local/lib/python3.8/dist-packages (from tensorflow) (1.21.6)\n",
            "Requirement already satisfied: protobuf<3.20,>=3.9.2 in /usr/local/lib/python3.8/dist-packages (from tensorflow) (3.19.6)\n",
            "Requirement already satisfied: wheel<1.0,>=0.23.0 in /usr/local/lib/python3.8/dist-packages (from astunparse>=1.6.0->tensorflow) (0.38.4)\n",
            "Requirement already satisfied: tensorboard-plugin-wit>=1.6.0 in /usr/local/lib/python3.8/dist-packages (from tensorboard<2.10,>=2.9->tensorflow) (1.8.1)\n",
            "Requirement already satisfied: google-auth<3,>=1.6.3 in /usr/local/lib/python3.8/dist-packages (from tensorboard<2.10,>=2.9->tensorflow) (2.15.0)\n",
            "Requirement already satisfied: google-auth-oauthlib<0.5,>=0.4.1 in /usr/local/lib/python3.8/dist-packages (from tensorboard<2.10,>=2.9->tensorflow) (0.4.6)\n",
            "Requirement already satisfied: tensorboard-data-server<0.7.0,>=0.6.0 in /usr/local/lib/python3.8/dist-packages (from tensorboard<2.10,>=2.9->tensorflow) (0.6.1)\n",
            "Requirement already satisfied: werkzeug>=1.0.1 in /usr/local/lib/python3.8/dist-packages (from tensorboard<2.10,>=2.9->tensorflow) (1.0.1)\n",
            "Requirement already satisfied: requests<3,>=2.21.0 in /usr/local/lib/python3.8/dist-packages (from tensorboard<2.10,>=2.9->tensorflow) (2.25.1)\n",
            "Requirement already satisfied: markdown>=2.6.8 in /usr/local/lib/python3.8/dist-packages (from tensorboard<2.10,>=2.9->tensorflow) (3.4.1)\n",
            "Requirement already satisfied: pyparsing!=3.0.5,>=2.0.2 in /usr/local/lib/python3.8/dist-packages (from packaging->tensorflow) (3.0.9)\n",
            "Requirement already satisfied: rsa<5,>=3.1.4 in /usr/local/lib/python3.8/dist-packages (from google-auth<3,>=1.6.3->tensorboard<2.10,>=2.9->tensorflow) (4.9)\n",
            "Requirement already satisfied: cachetools<6.0,>=2.0.0 in /usr/local/lib/python3.8/dist-packages (from google-auth<3,>=1.6.3->tensorboard<2.10,>=2.9->tensorflow) (5.2.0)\n",
            "Requirement already satisfied: pyasn1-modules>=0.2.1 in /usr/local/lib/python3.8/dist-packages (from google-auth<3,>=1.6.3->tensorboard<2.10,>=2.9->tensorflow) (0.2.8)\n",
            "Requirement already satisfied: requests-oauthlib>=0.7.0 in /usr/local/lib/python3.8/dist-packages (from google-auth-oauthlib<0.5,>=0.4.1->tensorboard<2.10,>=2.9->tensorflow) (1.3.1)\n",
            "Requirement already satisfied: importlib-metadata>=4.4 in /usr/local/lib/python3.8/dist-packages (from markdown>=2.6.8->tensorboard<2.10,>=2.9->tensorflow) (6.0.0)\n",
            "Requirement already satisfied: urllib3<1.27,>=1.21.1 in /usr/local/lib/python3.8/dist-packages (from requests<3,>=2.21.0->tensorboard<2.10,>=2.9->tensorflow) (1.24.3)\n",
            "Requirement already satisfied: certifi>=2017.4.17 in /usr/local/lib/python3.8/dist-packages (from requests<3,>=2.21.0->tensorboard<2.10,>=2.9->tensorflow) (2022.12.7)\n",
            "Requirement already satisfied: idna<3,>=2.5 in /usr/local/lib/python3.8/dist-packages (from requests<3,>=2.21.0->tensorboard<2.10,>=2.9->tensorflow) (2.10)\n",
            "Requirement already satisfied: chardet<5,>=3.0.2 in /usr/local/lib/python3.8/dist-packages (from requests<3,>=2.21.0->tensorboard<2.10,>=2.9->tensorflow) (4.0.0)\n",
            "Requirement already satisfied: zipp>=0.5 in /usr/local/lib/python3.8/dist-packages (from importlib-metadata>=4.4->markdown>=2.6.8->tensorboard<2.10,>=2.9->tensorflow) (3.11.0)\n",
            "Requirement already satisfied: pyasn1<0.5.0,>=0.4.6 in /usr/local/lib/python3.8/dist-packages (from pyasn1-modules>=0.2.1->google-auth<3,>=1.6.3->tensorboard<2.10,>=2.9->tensorflow) (0.4.8)\n",
            "Requirement already satisfied: oauthlib>=3.0.0 in /usr/local/lib/python3.8/dist-packages (from requests-oauthlib>=0.7.0->google-auth-oauthlib<0.5,>=0.4.1->tensorboard<2.10,>=2.9->tensorflow) (3.2.2)\n",
            "Looking in indexes: https://pypi.org/simple, https://us-python.pkg.dev/colab-wheels/public/simple/\n",
            "Requirement already satisfied: sklearn in /usr/local/lib/python3.8/dist-packages (0.0.post1)\n",
            "Looking in indexes: https://pypi.org/simple, https://us-python.pkg.dev/colab-wheels/public/simple/\n",
            "Requirement already satisfied: matplotlib in /usr/local/lib/python3.8/dist-packages (3.2.2)\n",
            "Requirement already satisfied: cycler>=0.10 in /usr/local/lib/python3.8/dist-packages (from matplotlib) (0.11.0)\n",
            "Requirement already satisfied: python-dateutil>=2.1 in /usr/local/lib/python3.8/dist-packages (from matplotlib) (2.8.2)\n",
            "Requirement already satisfied: pyparsing!=2.0.4,!=2.1.2,!=2.1.6,>=2.0.1 in /usr/local/lib/python3.8/dist-packages (from matplotlib) (3.0.9)\n",
            "Requirement already satisfied: kiwisolver>=1.0.1 in /usr/local/lib/python3.8/dist-packages (from matplotlib) (1.4.4)\n",
            "Requirement already satisfied: numpy>=1.11 in /usr/local/lib/python3.8/dist-packages (from matplotlib) (1.21.6)\n",
            "Requirement already satisfied: six>=1.5 in /usr/local/lib/python3.8/dist-packages (from python-dateutil>=2.1->matplotlib) (1.15.0)\n"
          ]
        }
      ],
      "source": [
        "! pip install numpy pandas\n",
        "! pip install tensorflow\n",
        "! pip install sklearn\n",
        "! pip install matplotlib"
      ]
    },
    {
      "cell_type": "code",
      "execution_count": 51,
      "metadata": {
        "id": "dheSTx4njt2f"
      },
      "outputs": [],
      "source": [
        "import re\n",
        "import pandas as pd\n",
        "import matplotlib.pyplot as plt\n",
        "import numpy as np\n",
        "import pickle\n",
        "from sklearn.model_selection import train_test_split\n",
        "import unicodedata\n",
        "import tensorflow as tf\n",
        "from tensorflow.keras import Input, Model\n",
        "from tensorflow.keras.preprocessing.text import Tokenizer\n",
        "from tensorflow.keras.preprocessing.sequence import pad_sequences\n",
        "from tensorflow.keras.callbacks import EarlyStopping, ReduceLROnPlateau\n",
        "from tensorflow.keras.layers import LSTM, Bidirectional, Dense, Embedding, TimeDistributed"
      ]
    },
    {
      "cell_type": "code",
      "source": [],
      "metadata": {
        "id": "YVt3CTQVHCKE"
      },
      "execution_count": null,
      "outputs": []
    },
    {
      "cell_type": "markdown",
      "metadata": {
        "id": "Y-3f8Dljrku_"
      },
      "source": [
        "# Clean data"
      ]
    },
    {
      "cell_type": "markdown",
      "metadata": {
        "id": "rqJn4T5Ir4Oo"
      },
      "source": [
        "The data is Cleaned by applying the following steps on the given dataset.\n",
        "1. Lower Case all words \n",
        "2. Removed puncuation from word and text\n",
        "3. Removed numbers from text\n",
        "4. Removed stopwords from text"
      ]
    },
    {
      "cell_type": "code",
      "execution_count": 11,
      "metadata": {
        "id": "nWiKeD8L3O1N"
      },
      "outputs": [],
      "source": [
        "filename1 = '/content/drive/MyDrive/Modified_data.csv'"
      ]
    },
    {
      "cell_type": "code",
      "execution_count": 12,
      "metadata": {
        "id": "6Bc1Q9Wzk4pm"
      },
      "outputs": [],
      "source": [
        "df = pd.read_csv(filename1, encoding='iso-8859-1')"
      ]
    },
    {
      "cell_type": "code",
      "execution_count": 13,
      "metadata": {
        "colab": {
          "base_uri": "https://localhost:8080/"
        },
        "id": "crw8Upp2juA2",
        "outputId": "8623cddb-811a-4e27-b6fb-2dd58c06541b"
      },
      "outputs": [
        {
          "output_type": "stream",
          "name": "stdout",
          "text": [
            "Dataset size: 102915\n"
          ]
        }
      ],
      "source": [
        "df.sample(5)\n",
        "print(f'Dataset size: {len(df)}')"
      ]
    },
    {
      "cell_type": "code",
      "execution_count": 14,
      "metadata": {
        "id": "udy8vOGFYazx"
      },
      "outputs": [],
      "source": [
        "max_text_len = 60\n",
        "max_summary_len = 20"
      ]
    },
    {
      "cell_type": "code",
      "execution_count": 15,
      "metadata": {
        "id": "6J-aJ2YXlYzu"
      },
      "outputs": [],
      "source": [
        "df.summary = df.summary.apply(lambda x: f'_START_ {x} _END_')"
      ]
    },
    {
      "cell_type": "code",
      "execution_count": 16,
      "metadata": {
        "id": "FSRj0JX8juF-"
      },
      "outputs": [],
      "source": [
        "# sostok , eostok for tf.tokenizer to recoganize start and stop in summary \n",
        "start_token = 'sostok'\n",
        "end_token = 'eostok'\n",
        "df.summary = df.summary.apply(lambda x: f'{start_token} {x} {end_token}')\n"
      ]
    },
    {
      "cell_type": "code",
      "source": [
        "def clean_text(text):\n",
        "    \n",
        "    # there are hyphen(–) in many titles, so replacing it with empty str\n",
        "    # this hyphen(–) is different from normal hyphen(-)\n",
        "    text = re.sub('–', '', text)\n",
        "    text = ' '.join(text.split())  # removing `extra` white spaces\n",
        "\n",
        "    # Removing unnecessary characters from text\n",
        "    text = re.sub(\"(\\\\t)\", ' ', str(text)).lower()\n",
        "    text = re.sub(\"(\\\\r)\", ' ', str(text)).lower()\n",
        "    text = re.sub(\"(\\\\n)\", ' ', str(text)).lower()\n",
        "\n",
        "    # remove accented chars ('Sómě Áccěntěd těxt' => 'Some Accented text')\n",
        "    text = unicodedata.normalize('NFKD', text).encode('ascii', 'ignore').decode(\n",
        "        'utf-8', 'ignore'\n",
        "    )\n",
        "\n",
        "    text = re.sub(\"(__+)\", ' ', str(text)).lower()\n",
        "    text = re.sub(\"(--+)\", ' ', str(text)).lower()\n",
        "    text = re.sub(\"(~~+)\", ' ', str(text)).lower()\n",
        "    text = re.sub(\"(\\+\\++)\", ' ', str(text)).lower()\n",
        "    text = re.sub(\"(\\.\\.+)\", ' ', str(text)).lower()\n",
        "\n",
        "    text = re.sub(r\"[<>()|&©ø\\[\\]\\'\\\",;?~*!]\", ' ', str(text)).lower()\n",
        "\n",
        "    text = re.sub(\"(mailto:)\", ' ', str(text)).lower()\n",
        "    text = re.sub(r\"(\\\\x9\\d)\", ' ', str(text)).lower()\n",
        "    text = re.sub(\"([iI][nN][cC]\\d+)\", 'INC_NUM', str(text)).lower()\n",
        "    text = re.sub(\"([cC][mM]\\d+)|([cC][hH][gG]\\d+)\", 'CM_NUM',\n",
        "                  str(text)).lower()\n",
        "\n",
        "    text = re.sub(\"(\\.\\s+)\", ' ', str(text)).lower()\n",
        "    text = re.sub(\"(\\-\\s+)\", ' ', str(text)).lower()\n",
        "    text = re.sub(\"(\\:\\s+)\", ' ', str(text)).lower()\n",
        "    text = re.sub(\"(\\s+.\\s+)\", ' ', str(text)).lower()\n",
        "\n",
        "    try:\n",
        "        url = re.search(r'((https*:\\/*)([^\\/\\s]+))(.[^\\s]+)', str(text))\n",
        "        repl_url = url.group(3)\n",
        "        text = re.sub(r'((https*:\\/*)([^\\/\\s]+))(.[^\\s]+)', repl_url, str(text))\n",
        "    except Exception as e:\n",
        "        pass\n",
        "\n",
        "    text = re.sub(\"(\\s+)\", ' ', str(text)).lower()\n",
        "    text = re.sub(\"(\\s+.\\s+)\", ' ', str(text)).lower()\n",
        "\n",
        "    return text"
      ],
      "metadata": {
        "id": "gPiVWnXQYRjn"
      },
      "execution_count": 52,
      "outputs": []
    },
    {
      "cell_type": "code",
      "execution_count": 17,
      "metadata": {
        "colab": {
          "base_uri": "https://localhost:8080/",
          "height": 281
        },
        "id": "DpFTVvvpjuIu",
        "outputId": "ea79c2f1-9e23-42a7-b2ab-4a8748dcbf14"
      },
      "outputs": [
        {
          "output_type": "display_data",
          "data": {
            "text/plain": [
              "<Figure size 1152x288 with 2 Axes>"
            ],
            "image/png": "[encoded data removed]"
          },
          "metadata": {
            "needs_background": "light"
          }
        }
      ],
      "source": [
        "text_count = [len(sentence.split()) for sentence in df.text]\n",
        "summary_count = [len(sentence.split()) for sentence in df.summary]\n",
        "pd.DataFrame({'text': text_count, 'summary': summary_count}).hist(bins=100, figsize=(16, 4), range=[0, 50])\n",
        "plt.show()"
      ]
    },
    {
      "cell_type": "code",
      "execution_count": 18,
      "metadata": {
        "id": "ezlbM-6TjuK_"
      },
      "outputs": [],
      "source": [
        "def get_rare_word_percent(tokenizer, threshold):\n",
        "    # threshold: if the word's occurrence is less than this then it's rare word\n",
        "\n",
        "    count = 0\n",
        "    total_count = 0\n",
        "    frequency = 0\n",
        "    total_frequency = 0\n",
        "\n",
        "    for key, value in tokenizer.word_counts.items():\n",
        "        total_count += 1\n",
        "        total_frequency += value\n",
        "        if value < threshold:\n",
        "            count += 1\n",
        "            frequency += value\n",
        "\n",
        "    return {\n",
        "        'percent': round((count / total_count) * 100, 2),\n",
        "        'total_coverage': round(frequency / total_frequency * 100, 2),\n",
        "        'count': count,\n",
        "        'total_count': total_count\n",
        "    }"
      ]
    },
    {
      "cell_type": "code",
      "execution_count": 19,
      "metadata": {
        "id": "P5UwRn2IjuNW"
      },
      "outputs": [],
      "source": [
        "# Splitting the training and validation sets\n",
        "x_train, x_val, y_train, y_val = train_test_split(\n",
        "    np.array(df['text']),\n",
        "    np.array(df['summary']),\n",
        "    test_size=0.1,\n",
        "    random_state=1,\n",
        "    shuffle=True\n",
        ")"
      ]
    },
    {
      "cell_type": "code",
      "execution_count": null,
      "metadata": {
        "id": "ywHzMyQ5Z7rr"
      },
      "outputs": [],
      "source": []
    },
    {
      "cell_type": "code",
      "execution_count": 20,
      "metadata": {
        "id": "P6ciWYTzjuPH"
      },
      "outputs": [],
      "source": [
        "x_tokenizer = Tokenizer()\n",
        "x_tokenizer.fit_on_texts(list(x_train))"
      ]
    },
    {
      "cell_type": "code",
      "execution_count": 21,
      "metadata": {
        "colab": {
          "base_uri": "https://localhost:8080/"
        },
        "id": "LwGhmsRDccNQ",
        "outputId": "b10f626b-94ee-40da-b754-1b5584f6b519"
      },
      "outputs": [
        {
          "output_type": "execute_result",
          "data": {
            "text/plain": [
              "92623"
            ]
          },
          "metadata": {},
          "execution_count": 21
        }
      ],
      "source": [
        "len(x_train)"
      ]
    },
    {
      "cell_type": "code",
      "execution_count": 23,
      "metadata": {
        "id": "Fc_27RRMcmtY"
      },
      "outputs": [],
      "source": [
        "with open('x_tokenizer', 'wb') as f:\n",
        "    pickle.dump(x_tokenizer, f, protocol=pickle.HIGHEST_PROTOCOL)"
      ]
    },
    {
      "cell_type": "code",
      "execution_count": 22,
      "metadata": {
        "colab": {
          "base_uri": "https://localhost:8080/"
        },
        "id": "ULWCp20T7ZAG",
        "outputId": "45b34af8-adb9-4104-eda8-65abe90fcbc8"
      },
      "outputs": [
        {
          "output_type": "stream",
          "name": "stdout",
          "text": [
            "101818\n"
          ]
        }
      ],
      "source": [
        "# one-hot-encoding\n",
        "x_train_sequence = x_tokenizer.texts_to_sequences(x_train)\n",
        "x_val_sequence = x_tokenizer.texts_to_sequences(x_val)\n",
        "\n",
        "# padding upto max_text_len\n",
        "x_train_padded = pad_sequences(x_train_sequence, maxlen=max_text_len, padding='post')\n",
        "x_val_padded = pad_sequences(x_val_sequence, maxlen=max_text_len, padding='post')\n",
        "\n",
        "# if you're not using num_words parameter in Tokenizer then use this\n",
        "x_vocab_size = len(x_tokenizer.word_index) + 1\n",
        "\n",
        "# else use this\n",
        "# x_vocab_size = x_tokenizer.num_words + 1\n",
        "\n",
        "print(x_vocab_size)"
      ]
    },
    {
      "cell_type": "code",
      "execution_count": 24,
      "metadata": {
        "id": "plBBLuD77ZH9"
      },
      "outputs": [],
      "source": [
        "y_tokenizer = Tokenizer()\n",
        "y_tokenizer.fit_on_texts(list(y_train))"
      ]
    },
    {
      "cell_type": "code",
      "execution_count": 25,
      "metadata": {
        "id": "CuLRCInC8J9f"
      },
      "outputs": [],
      "source": [
        "with open('y_tokenizer', 'wb') as f:\n",
        "    pickle.dump(y_tokenizer, f, protocol=pickle.HIGHEST_PROTOCOL)"
      ]
    },
    {
      "cell_type": "code",
      "execution_count": 26,
      "metadata": {
        "colab": {
          "base_uri": "https://localhost:8080/"
        },
        "id": "QYNw2e-O8KFV",
        "outputId": "0d1720f6-f14f-4c83-e9e0-2ded2c3362e0"
      },
      "outputs": [
        {
          "output_type": "stream",
          "name": "stdout",
          "text": [
            "38072\n"
          ]
        }
      ],
      "source": [
        "# one-hot-encoding\n",
        "y_train_sequence = y_tokenizer.texts_to_sequences(y_train)\n",
        "y_val_sequence = y_tokenizer.texts_to_sequences(y_val)\n",
        "\n",
        "# padding upto max_summary_len\n",
        "y_train_padded = pad_sequences(y_train_sequence, maxlen=max_summary_len, padding='post')\n",
        "y_val_padded = pad_sequences(y_val_sequence, maxlen=max_summary_len, padding='post')\n",
        "\n",
        "# if you're not using num_words parameter in Tokenizer then use this\n",
        "y_vocab_size = len(y_tokenizer.word_index) + 1\n",
        "\n",
        "# else use this\n",
        "# y_vocab_size = y_tokenizer.num_words + 1\n",
        "\n",
        "print(y_vocab_size)"
      ]
    },
    {
      "cell_type": "code",
      "execution_count": 27,
      "metadata": {
        "id": "j7IwO1jE8KKN"
      },
      "outputs": [],
      "source": [
        "# removing summary which only has sostok & eostok\n",
        "def remove_indexes(summary_array):\n",
        "    remove_indexes = []\n",
        "    for i in range(len(summary_array)):\n",
        "        count = 0\n",
        "        for j in summary_array[i]:\n",
        "            if j != 0:\n",
        "                count += 1\n",
        "        if count == 2:\n",
        "            remove_indexes.append(i)\n",
        "    return remove_indexes\n",
        "\n",
        "\n",
        "remove_train_indexes = remove_indexes(y_train_padded)\n",
        "remove_val_indexes = remove_indexes(y_val_padded)\n",
        "\n",
        "y_train_padded = np.delete(y_train_padded, remove_train_indexes, axis=0)\n",
        "x_train_padded = np.delete(x_train_padded, remove_train_indexes, axis=0)\n",
        "\n",
        "y_val_padded = np.delete(y_val_padded, remove_val_indexes, axis=0)\n",
        "x_val_padded = np.delete(x_val_padded, remove_val_indexes, axis=0)"
      ]
    },
    {
      "cell_type": "code",
      "execution_count": 28,
      "metadata": {
        "id": "GMCU8A7c-zUd"
      },
      "outputs": [],
      "source": [
        "latent_dim = 240\n",
        "embedding_dim = 100\n",
        "num_epochs = 100"
      ]
    },
    {
      "cell_type": "code",
      "execution_count": 29,
      "metadata": {
        "colab": {
          "base_uri": "https://localhost:8080/"
        },
        "id": "6dXIRXi--zXP",
        "outputId": "c129ca45-f87a-4dc8-cb5d-886fba667500"
      },
      "outputs": [
        {
          "output_type": "stream",
          "name": "stdout",
          "text": [
            "Found 400000 word vectors.\n",
            "Converted 55925 words (45892 misses)\n",
            "Found 400000 word vectors.\n",
            "Converted 27316 words (10755 misses)\n"
          ]
        }
      ],
      "source": [
        "def get_embedding_matrix(tokenizer, embedding_dim, vocab_size=None):\n",
        "    word_index = tokenizer.word_index\n",
        "    voc = list(word_index.keys())\n",
        "\n",
        "    path_to_glove_file = '/content/drive/MyDrive/glove.6B.100d.txt'\n",
        "\n",
        "    embeddings_index = {}\n",
        "    with open(path_to_glove_file) as f:\n",
        "        for line in f:\n",
        "            word, coefs = line.split(maxsplit=1)\n",
        "            coefs = np.fromstring(coefs, \"f\", sep=\" \")\n",
        "            embeddings_index[word] = coefs\n",
        "\n",
        "    print(\"Found %s word vectors.\" % len(embeddings_index))\n",
        "\n",
        "    num_tokens = len(voc) + 2 if not vocab_size else vocab_size\n",
        "    hits = 0\n",
        "    misses = 0\n",
        "\n",
        "    # Prepare embedding matrix\n",
        "    embedding_matrix = np.zeros((num_tokens, embedding_dim))\n",
        "    for word, i in word_index.items():\n",
        "        embedding_vector = embeddings_index.get(word)\n",
        "        if embedding_vector is not None:\n",
        "            # Words not found in embedding index will be all-zeros.\n",
        "            # This includes the representation for \"padding\" and \"OOV\"\n",
        "            embedding_matrix[i] = embedding_vector\n",
        "            hits += 1\n",
        "        else:\n",
        "            misses += 1\n",
        "    print(\"Converted %d words (%d misses)\" % (hits, misses))\n",
        "\n",
        "    return embedding_matrix\n",
        "\n",
        "\n",
        "x_embedding_matrix = get_embedding_matrix(x_tokenizer, embedding_dim, x_vocab_size)\n",
        "y_embedding_matrix = get_embedding_matrix(y_tokenizer, embedding_dim, y_vocab_size)"
      ]
    },
    {
      "cell_type": "code",
      "execution_count": 30,
      "metadata": {
        "colab": {
          "base_uri": "https://localhost:8080/"
        },
        "id": "9hfgjcdH-zZr",
        "outputId": "c8792e8f-dc70-4d91-b7d1-fb33a5a95e71"
      },
      "outputs": [
        {
          "output_type": "stream",
          "name": "stdout",
          "text": [
            "(101818, 100)\n",
            "(38072, 100)\n"
          ]
        }
      ],
      "source": [
        "print(x_embedding_matrix.shape)\n",
        "print(y_embedding_matrix.shape)"
      ]
    },
    {
      "cell_type": "code",
      "source": [
        "\n",
        "\n",
        "tf.config.experimental_connect_to_cluster(tpu)\n",
        "tf.tpu.experimental.initialize_tpu_system(tpu)\n",
        "tpu_strategy = tf.distribute.experimental.TPUStrategy(tpu)"
      ],
      "metadata": {
        "colab": {
          "base_uri": "https://localhost:8080/"
        },
        "id": "IFTXGGvdIhrV",
        "outputId": "d1c1967a-3138-496e-c2a3-a7bb7d040598"
      },
      "execution_count": 31,
      "outputs": [
        {
          "output_type": "stream",
          "name": "stderr",
          "text": [
            "WARNING:tensorflow:TPU system grpc://10.96.173.138:8470 has already been initialized. Reinitializing the TPU can cause previously created variables on TPU to be lost.\n",
            "WARNING:absl:`tf.distribute.experimental.TPUStrategy` is deprecated, please use  the non experimental symbol `tf.distribute.TPUStrategy` instead.\n"
          ]
        }
      ]
    },
    {
      "cell_type": "code",
      "execution_count": 32,
      "metadata": {
        "id": "wfpABNAV-zcd"
      },
      "outputs": [],
      "source": [
        "def build_seq2seq_model_lstm(embedding_dim, latent_dim, max_text_len, x_vocab_size, y_vocab_size,x_embedding_matrix, y_embedding_matrix):\n",
        "    # instantiating the model in the strategy scope creates the model on the TPU\n",
        "    with tpu_strategy.scope():\n",
        "        encoder_input = Input(shape=(max_text_len, ))\n",
        "\n",
        "        # encoder embedding layer\n",
        "        encoder_embedding = Embedding(x_vocab_size,embedding_dim,embeddings_initializer=tf.keras.initializers.Constant(x_embedding_matrix),trainable=False)(encoder_input)\n",
        "\n",
        "        # encoder lstm 1\n",
        "        encoder_lstm1 = LSTM(latent_dim,return_sequences=True,return_state=True,dropout=0.4,recurrent_dropout=0.4)\n",
        "        encoder_output1, state_h1, state_c1 = encoder_lstm1(encoder_embedding)\n",
        "\n",
        "        # encoder lstm 2\n",
        "        encoder_lstm2 = LSTM(latent_dim,return_sequences=True,return_state=True,dropout=0.4,recurrent_dropout=0.4)\n",
        "        encoder_output, *encoder_final_states = encoder_lstm2(encoder_output1)\n",
        "        decoder_input = Input(shape=(None, ))\n",
        "\n",
        "\n",
        "\n",
        "\n",
        "        # decoder embedding layer\n",
        "        decoder_embedding_layer = Embedding(\n",
        "            y_vocab_size,\n",
        "            embedding_dim,\n",
        "            embeddings_initializer=tf.keras.initializers.Constant(y_embedding_matrix),\n",
        "            trainable=True\n",
        "        )\n",
        "        decoder_embedding = decoder_embedding_layer(decoder_input)\n",
        "\n",
        "        # decoder lstm 1\n",
        "        decoder_lstm = LSTM(\n",
        "            latent_dim,\n",
        "            return_sequences=True,\n",
        "            return_state=True,\n",
        "            dropout=0.4,\n",
        "            recurrent_dropout=0.4\n",
        "        )\n",
        "        decoder_output, *decoder_final_states = decoder_lstm(\n",
        "            decoder_embedding, initial_state=encoder_final_states\n",
        "        )\n",
        "\n",
        "        # dense layer\n",
        "        decoder_dense = TimeDistributed(\n",
        "            Dense(y_vocab_size, activation='softmax')\n",
        "        )\n",
        "        decoder_output = decoder_dense(decoder_output)\n",
        "        model = Model([encoder_input, decoder_input], decoder_output)\n",
        "        model.summary()\n",
        "\n",
        "        optimizer = tf.keras.optimizers.RMSprop(learning_rate=0.001)\n",
        "        model.compile(\n",
        "            optimizer=optimizer,\n",
        "            loss='sparse_categorical_crossentropy',\n",
        "            metrics=['accuracy']\n",
        "        )\n",
        "\n",
        "        return {\n",
        "            'model': model,\n",
        "            'inputs': {\n",
        "                'encoder': encoder_input,\n",
        "                'decoder': decoder_input\n",
        "            },\n",
        "            'outputs': {\n",
        "                'encoder': encoder_output,\n",
        "                'decoder': decoder_output\n",
        "            },\n",
        "            'states': {\n",
        "                'encoder': encoder_final_states,\n",
        "                'decoder': decoder_final_states\n",
        "            },\n",
        "            'layers': {\n",
        "                'decoder': {\n",
        "                    'embedding': decoder_embedding_layer,\n",
        "                    'last_decoder_lstm': decoder_lstm,\n",
        "                    'dense': decoder_dense\n",
        "                }\n",
        "            }\n",
        "        }\n"
      ]
    },
    {
      "cell_type": "code",
      "execution_count": 33,
      "metadata": {
        "colab": {
          "base_uri": "https://localhost:8080/"
        },
        "id": "KUY1J3Rq-ze0",
        "outputId": "765d644b-f0f0-4b3b-b3c5-31a031a3677d"
      },
      "outputs": [
        {
          "output_type": "stream",
          "name": "stdout",
          "text": [
            "Model: \"model\"\n",
            "__________________________________________________________________________________________________\n",
            " Layer (type)                   Output Shape         Param #     Connected to                     \n",
            "==================================================================================================\n",
            " input_1 (InputLayer)           [(None, 60)]         0           []                               \n",
            "                                                                                                  \n",
            " embedding (Embedding)          (None, 60, 100)      10181800    ['input_1[0][0]']                \n",
            "                                                                                                  \n",
            " input_2 (InputLayer)           [(None, None)]       0           []                               \n",
            "                                                                                                  \n",
            " lstm (LSTM)                    [(None, 60, 240),    327360      ['embedding[0][0]']              \n",
            "                                 (None, 240),                                                     \n",
            "                                 (None, 240)]                                                     \n",
            "                                                                                                  \n",
            " embedding_1 (Embedding)        (None, None, 100)    3807200     ['input_2[0][0]']                \n",
            "                                                                                                  \n",
            " lstm_1 (LSTM)                  [(None, 60, 240),    461760      ['lstm[0][0]']                   \n",
            "                                 (None, 240),                                                     \n",
            "                                 (None, 240)]                                                     \n",
            "                                                                                                  \n",
            " lstm_2 (LSTM)                  [(None, None, 240),  327360      ['embedding_1[0][0]',            \n",
            "                                 (None, 240),                     'lstm_1[0][1]',                 \n",
            "                                 (None, 240)]                     'lstm_1[0][2]']                 \n",
            "                                                                                                  \n",
            " time_distributed (TimeDistribu  (None, None, 38072)  9175352    ['lstm_2[0][0]']                 \n",
            " ted)                                                                                             \n",
            "                                                                                                  \n",
            "==================================================================================================\n",
            "Total params: 24,280,832\n",
            "Trainable params: 14,099,032\n",
            "Non-trainable params: 10,181,800\n",
            "__________________________________________________________________________________________________\n"
          ]
        }
      ],
      "source": [
        "seq2seq = build_seq2seq_model_lstm(embedding_dim, latent_dim, max_text_len, x_vocab_size, y_vocab_size,x_embedding_matrix, y_embedding_matrix)"
      ]
    },
    {
      "cell_type": "code",
      "source": [
        "model = seq2seq['model']\n",
        "\n",
        "encoder_input = seq2seq['inputs']['encoder']\n",
        "decoder_input = seq2seq['inputs']['decoder']\n",
        "\n",
        "encoder_output = seq2seq['outputs']['encoder']\n",
        "decoder_output = seq2seq['outputs']['decoder']\n",
        "\n",
        "encoder_final_states = seq2seq['states']['encoder']\n",
        "decoder_final_states = seq2seq['states']['decoder']\n",
        "\n",
        "decoder_embedding_layer = seq2seq['layers']['decoder']['embedding']\n",
        "last_decoder_lstm = seq2seq['layers']['decoder']['last_decoder_lstm']\n",
        "decoder_dense = seq2seq['layers']['decoder']['dense']"
      ],
      "metadata": {
        "id": "25JpxM9HQ-FJ"
      },
      "execution_count": 34,
      "outputs": []
    },
    {
      "cell_type": "code",
      "source": [
        "model.layers[-2].input"
      ],
      "metadata": {
        "id": "f5mdrjzsRZxP",
        "outputId": "39de30cf-5f0a-426d-fde9-585ff08357e5",
        "colab": {
          "base_uri": "https://localhost:8080/"
        }
      },
      "execution_count": 35,
      "outputs": [
        {
          "output_type": "execute_result",
          "data": {
            "text/plain": [
              "[<KerasTensor: shape=(None, None, 100) dtype=float32 (created by layer 'embedding_1')>,\n",
              " <KerasTensor: shape=(None, 240) dtype=float32 (created by layer 'lstm_1')>,\n",
              " <KerasTensor: shape=(None, 240) dtype=float32 (created by layer 'lstm_1')>]"
            ]
          },
          "metadata": {},
          "execution_count": 35
        }
      ]
    },
    {
      "cell_type": "code",
      "source": [
        "callbacks = [\n",
        "    EarlyStopping(monitor='val_loss', mode='min', verbose=1, patience=2),\n",
        "    ReduceLROnPlateau(monitor='val_loss', factor=0.1, patience=2, min_lr=0.000001, verbose=1),\n",
        "]"
      ],
      "metadata": {
        "id": "CcBWE0sFRZ0w"
      },
      "execution_count": 36,
      "outputs": []
    },
    {
      "cell_type": "code",
      "source": [
        "history = model.fit(\n",
        "    [x_train_padded, y_train_padded[:, :-1]],\n",
        "    y_train_padded.reshape(y_train_padded.shape[0], y_train_padded.shape[1], 1)[:, 1:],\n",
        "    epochs=num_epochs,\n",
        "    batch_size=128 * tpu_strategy.num_replicas_in_sync,\n",
        "    callbacks=callbacks,\n",
        "    validation_data=(\n",
        "        [x_val_padded, y_val_padded[:, :-1]],\n",
        "        y_val_padded.reshape(y_val_padded.shape[0], y_val_padded.shape[1], 1)[:, 1:]\n",
        "    )\n",
        ")"
      ],
      "metadata": {
        "id": "FwK1YKExRZ3f",
        "outputId": "607fe8ee-3525-4b31-cd49-ce382fa432b8",
        "colab": {
          "base_uri": "https://localhost:8080/"
        }
      },
      "execution_count": 37,
      "outputs": [
        {
          "output_type": "stream",
          "name": "stdout",
          "text": [
            "Epoch 1/100\n",
            "91/91 [==============================] - 56s 359ms/step - loss: 4.2876 - accuracy: 0.5352 - val_loss: 3.3174 - val_accuracy: 0.6232 - lr: 0.0010\n",
            "Epoch 2/100\n",
            "91/91 [==============================] - 13s 139ms/step - loss: 3.3301 - accuracy: 0.6273 - val_loss: 3.1691 - val_accuracy: 0.6393 - lr: 0.0010\n",
            "Epoch 3/100\n",
            "91/91 [==============================] - 13s 138ms/step - loss: 3.2402 - accuracy: 0.6320 - val_loss: 3.1008 - val_accuracy: 0.6414 - lr: 0.0010\n",
            "Epoch 4/100\n",
            "91/91 [==============================] - 13s 139ms/step - loss: 3.1639 - accuracy: 0.6336 - val_loss: 3.0280 - val_accuracy: 0.6436 - lr: 0.0010\n",
            "Epoch 5/100\n",
            "91/91 [==============================] - 13s 139ms/step - loss: 3.0478 - accuracy: 0.6364 - val_loss: 2.8853 - val_accuracy: 0.6469 - lr: 0.0010\n",
            "Epoch 6/100\n",
            "91/91 [==============================] - 13s 145ms/step - loss: 2.9079 - accuracy: 0.6400 - val_loss: 2.7764 - val_accuracy: 0.6503 - lr: 0.0010\n",
            "Epoch 7/100\n",
            "91/91 [==============================] - 13s 140ms/step - loss: 2.8012 - accuracy: 0.6437 - val_loss: 2.6904 - val_accuracy: 0.6531 - lr: 0.0010\n",
            "Epoch 8/100\n",
            "91/91 [==============================] - 13s 140ms/step - loss: 2.7092 - accuracy: 0.6469 - val_loss: 2.6152 - val_accuracy: 0.6566 - lr: 0.0010\n",
            "Epoch 9/100\n",
            "91/91 [==============================] - 13s 139ms/step - loss: 2.6267 - accuracy: 0.6501 - val_loss: 2.5445 - val_accuracy: 0.6598 - lr: 0.0010\n",
            "Epoch 10/100\n",
            "91/91 [==============================] - 13s 139ms/step - loss: 2.5501 - accuracy: 0.6534 - val_loss: 2.5081 - val_accuracy: 0.6623 - lr: 0.0010\n",
            "Epoch 11/100\n",
            "91/91 [==============================] - 13s 139ms/step - loss: 2.4829 - accuracy: 0.6565 - val_loss: 2.4434 - val_accuracy: 0.6656 - lr: 0.0010\n",
            "Epoch 12/100\n",
            "91/91 [==============================] - 13s 138ms/step - loss: 2.4224 - accuracy: 0.6593 - val_loss: 2.4063 - val_accuracy: 0.6675 - lr: 0.0010\n",
            "Epoch 13/100\n",
            "91/91 [==============================] - 13s 138ms/step - loss: 2.3674 - accuracy: 0.6621 - val_loss: 2.3550 - val_accuracy: 0.6710 - lr: 0.0010\n",
            "Epoch 14/100\n",
            "91/91 [==============================] - 13s 139ms/step - loss: 2.3171 - accuracy: 0.6649 - val_loss: 2.3221 - val_accuracy: 0.6731 - lr: 0.0010\n",
            "Epoch 15/100\n",
            "91/91 [==============================] - 13s 140ms/step - loss: 2.2705 - accuracy: 0.6672 - val_loss: 2.3095 - val_accuracy: 0.6735 - lr: 0.0010\n",
            "Epoch 16/100\n",
            "91/91 [==============================] - 13s 139ms/step - loss: 2.2272 - accuracy: 0.6699 - val_loss: 2.2741 - val_accuracy: 0.6762 - lr: 0.0010\n",
            "Epoch 17/100\n",
            "91/91 [==============================] - 13s 139ms/step - loss: 2.1870 - accuracy: 0.6723 - val_loss: 2.2433 - val_accuracy: 0.6785 - lr: 0.0010\n",
            "Epoch 18/100\n",
            "91/91 [==============================] - 13s 140ms/step - loss: 2.1490 - accuracy: 0.6745 - val_loss: 2.2180 - val_accuracy: 0.6808 - lr: 0.0010\n",
            "Epoch 19/100\n",
            "91/91 [==============================] - 13s 139ms/step - loss: 2.1128 - accuracy: 0.6768 - val_loss: 2.2031 - val_accuracy: 0.6816 - lr: 0.0010\n",
            "Epoch 20/100\n",
            "91/91 [==============================] - 13s 138ms/step - loss: 2.0790 - accuracy: 0.6790 - val_loss: 2.1837 - val_accuracy: 0.6829 - lr: 0.0010\n",
            "Epoch 21/100\n",
            "91/91 [==============================] - 13s 139ms/step - loss: 2.0469 - accuracy: 0.6812 - val_loss: 2.1656 - val_accuracy: 0.6846 - lr: 0.0010\n",
            "Epoch 22/100\n",
            "91/91 [==============================] - 13s 139ms/step - loss: 2.0174 - accuracy: 0.6830 - val_loss: 2.1470 - val_accuracy: 0.6858 - lr: 0.0010\n",
            "Epoch 23/100\n",
            "91/91 [==============================] - 13s 140ms/step - loss: 1.9885 - accuracy: 0.6851 - val_loss: 2.1388 - val_accuracy: 0.6862 - lr: 0.0010\n",
            "Epoch 24/100\n",
            "91/91 [==============================] - 13s 139ms/step - loss: 1.9607 - accuracy: 0.6868 - val_loss: 2.1351 - val_accuracy: 0.6865 - lr: 0.0010\n",
            "Epoch 25/100\n",
            "91/91 [==============================] - 13s 140ms/step - loss: 1.9354 - accuracy: 0.6887 - val_loss: 2.1142 - val_accuracy: 0.6890 - lr: 0.0010\n",
            "Epoch 26/100\n",
            "91/91 [==============================] - 13s 140ms/step - loss: 1.9104 - accuracy: 0.6904 - val_loss: 2.1005 - val_accuracy: 0.6903 - lr: 0.0010\n",
            "Epoch 27/100\n",
            "91/91 [==============================] - 13s 139ms/step - loss: 1.8875 - accuracy: 0.6922 - val_loss: 2.0870 - val_accuracy: 0.6915 - lr: 0.0010\n",
            "Epoch 28/100\n",
            "91/91 [==============================] - 13s 139ms/step - loss: 1.8650 - accuracy: 0.6936 - val_loss: 2.0923 - val_accuracy: 0.6901 - lr: 0.0010\n",
            "Epoch 29/100\n",
            "91/91 [==============================] - 13s 140ms/step - loss: 1.8445 - accuracy: 0.6957 - val_loss: 2.0808 - val_accuracy: 0.6904 - lr: 0.0010\n",
            "Epoch 30/100\n",
            "91/91 [==============================] - 13s 139ms/step - loss: 1.8230 - accuracy: 0.6971 - val_loss: 2.0709 - val_accuracy: 0.6921 - lr: 0.0010\n",
            "Epoch 31/100\n",
            "91/91 [==============================] - 13s 139ms/step - loss: 1.8021 - accuracy: 0.6989 - val_loss: 2.0746 - val_accuracy: 0.6911 - lr: 0.0010\n",
            "Epoch 32/100\n",
            "91/91 [==============================] - 13s 140ms/step - loss: 1.7834 - accuracy: 0.7000 - val_loss: 2.0531 - val_accuracy: 0.6938 - lr: 0.0010\n",
            "Epoch 33/100\n",
            "91/91 [==============================] - 13s 141ms/step - loss: 1.7652 - accuracy: 0.7018 - val_loss: 2.0504 - val_accuracy: 0.6945 - lr: 0.0010\n",
            "Epoch 34/100\n",
            "91/91 [==============================] - 13s 139ms/step - loss: 1.7469 - accuracy: 0.7032 - val_loss: 2.0463 - val_accuracy: 0.6946 - lr: 0.0010\n",
            "Epoch 35/100\n",
            "91/91 [==============================] - 13s 139ms/step - loss: 1.7304 - accuracy: 0.7046 - val_loss: 2.0419 - val_accuracy: 0.6946 - lr: 0.0010\n",
            "Epoch 36/100\n",
            "91/91 [==============================] - 13s 139ms/step - loss: 1.7137 - accuracy: 0.7062 - val_loss: 2.0409 - val_accuracy: 0.6948 - lr: 0.0010\n",
            "Epoch 37/100\n",
            "91/91 [==============================] - 13s 140ms/step - loss: 1.6981 - accuracy: 0.7074 - val_loss: 2.0261 - val_accuracy: 0.6967 - lr: 0.0010\n",
            "Epoch 38/100\n",
            "91/91 [==============================] - 13s 140ms/step - loss: 1.6832 - accuracy: 0.7088 - val_loss: 2.0252 - val_accuracy: 0.6967 - lr: 0.0010\n",
            "Epoch 39/100\n",
            "91/91 [==============================] - 13s 140ms/step - loss: 1.6676 - accuracy: 0.7099 - val_loss: 2.0178 - val_accuracy: 0.6978 - lr: 0.0010\n",
            "Epoch 40/100\n",
            "91/91 [==============================] - 13s 139ms/step - loss: 1.6529 - accuracy: 0.7113 - val_loss: 2.0161 - val_accuracy: 0.6981 - lr: 0.0010\n",
            "Epoch 41/100\n",
            "91/91 [==============================] - 13s 139ms/step - loss: 1.6390 - accuracy: 0.7128 - val_loss: 2.0144 - val_accuracy: 0.6985 - lr: 0.0010\n",
            "Epoch 42/100\n",
            "91/91 [==============================] - 13s 140ms/step - loss: 1.6264 - accuracy: 0.7139 - val_loss: 2.0194 - val_accuracy: 0.6965 - lr: 0.0010\n",
            "Epoch 43/100\n",
            "91/91 [==============================] - 14s 150ms/step - loss: 1.6132 - accuracy: 0.7147 - val_loss: 2.0091 - val_accuracy: 0.6996 - lr: 0.0010\n",
            "Epoch 44/100\n",
            "91/91 [==============================] - 13s 141ms/step - loss: 1.6017 - accuracy: 0.7160 - val_loss: 2.0095 - val_accuracy: 0.6985 - lr: 0.0010\n",
            "Epoch 45/100\n",
            "91/91 [==============================] - 13s 141ms/step - loss: 1.5895 - accuracy: 0.7174 - val_loss: 2.0065 - val_accuracy: 0.6986 - lr: 0.0010\n",
            "Epoch 46/100\n",
            "91/91 [==============================] - 13s 143ms/step - loss: 1.5779 - accuracy: 0.7183 - val_loss: 2.0004 - val_accuracy: 0.7004 - lr: 0.0010\n",
            "Epoch 47/100\n",
            "91/91 [==============================] - 13s 143ms/step - loss: 1.5667 - accuracy: 0.7194 - val_loss: 2.0003 - val_accuracy: 0.7003 - lr: 0.0010\n",
            "Epoch 48/100\n",
            "91/91 [==============================] - 13s 143ms/step - loss: 1.5547 - accuracy: 0.7205 - val_loss: 2.0001 - val_accuracy: 0.7004 - lr: 0.0010\n",
            "Epoch 49/100\n",
            "91/91 [==============================] - 13s 143ms/step - loss: 1.5435 - accuracy: 0.7215 - val_loss: 1.9942 - val_accuracy: 0.7006 - lr: 0.0010\n",
            "Epoch 50/100\n",
            "91/91 [==============================] - 13s 143ms/step - loss: 1.5337 - accuracy: 0.7227 - val_loss: 1.9960 - val_accuracy: 0.7008 - lr: 0.0010\n",
            "Epoch 51/100\n",
            "91/91 [==============================] - ETA: 0s - loss: 1.5225 - accuracy: 0.7235\n",
            "Epoch 51: ReduceLROnPlateau reducing learning rate to 0.00010000000474974513.\n",
            "91/91 [==============================] - 13s 144ms/step - loss: 1.5225 - accuracy: 0.7235 - val_loss: 2.0063 - val_accuracy: 0.6989 - lr: 0.0010\n",
            "Epoch 51: early stopping\n"
          ]
        }
      ]
    },
    {
      "cell_type": "code",
      "source": [
        "# Accuracy\n",
        "plt.plot(history.history['accuracy'][1:], label='train acc')\n",
        "plt.plot(history.history['val_accuracy'], label='val')\n",
        "plt.xlabel('Epoch')\n",
        "plt.ylabel('Accuracy')\n",
        "plt.legend(loc='lower right')"
      ],
      "metadata": {
        "id": "e6FUYkf5RZ6H",
        "outputId": "0848db8c-10d7-447d-9fae-59ba0d2528ce",
        "colab": {
          "base_uri": "https://localhost:8080/",
          "height": 297
        }
      },
      "execution_count": 38,
      "outputs": [
        {
          "output_type": "execute_result",
          "data": {
            "text/plain": [
              "<matplotlib.legend.Legend at 0x7f2dc1c9ee80>"
            ]
          },
          "metadata": {},
          "execution_count": 38
        },
        {
          "output_type": "display_data",
          "data": {
            "text/plain": [
              "<Figure size 432x288 with 1 Axes>"
            ],
            "image/png": "[encoded data removed]"
          },
          "metadata": {
            "needs_background": "light"
          }
        }
      ]
    },
    {
      "cell_type": "code",
      "source": [
        "# Loss\n",
        "plt.plot(history.history['loss'][1:], label='train loss')\n",
        "plt.plot(history.history['val_loss'], label='val')\n",
        "plt.xlabel('Epoch')\n",
        "plt.ylabel('Loss')\n",
        "plt.legend(loc='lower right')"
      ],
      "metadata": {
        "id": "mJ4NKWyNRZ8A",
        "outputId": "2e4d1ee3-94c9-45f1-ef79-be94dbd9e8fd",
        "colab": {
          "base_uri": "https://localhost:8080/",
          "height": 297
        }
      },
      "execution_count": 39,
      "outputs": [
        {
          "output_type": "execute_result",
          "data": {
            "text/plain": [
              "<matplotlib.legend.Legend at 0x7f2dbce77760>"
            ]
          },
          "metadata": {},
          "execution_count": 39
        },
        {
          "output_type": "display_data",
          "data": {
            "text/plain": [
              "<Figure size 432x288 with 1 Axes>"
            ],
            "image/png": "[encoded data removed]"
          },
          "metadata": {
            "needs_background": "light"
          }
        }
      ]
    },
    {
      "cell_type": "code",
      "source": [
        "# Next, let’s build the dictionary to convert the index to word for target and source vocabulary:\n",
        "reverse_target_word_index = y_tokenizer.index_word\n",
        "reverse_source_word_index = x_tokenizer.index_word\n",
        "target_word_index = y_tokenizer.word_index"
      ],
      "metadata": {
        "id": "p85CvkEEVHzv"
      },
      "execution_count": 40,
      "outputs": []
    },
    {
      "cell_type": "code",
      "source": [
        "def build_seq2seq_model_lstm_inference(\n",
        "    max_text_len, latent_dim, encoder_input, encoder_output,\n",
        "    encoder_final_states, decoder_input, decoder_output,\n",
        "    decoder_embedding_layer, decoder_dense, last_decoder_lstm\n",
        "):\n",
        "    # Encode the input sequence to get the feature vector\n",
        "    encoder_model = Model(\n",
        "        inputs=encoder_input, outputs=[encoder_output] + encoder_final_states\n",
        "    )\n",
        "\n",
        "    # Decoder setup\n",
        "    # Below tensors will hold the states of the previous time step\n",
        "    decoder_state_input_h = Input(shape=(latent_dim, ))\n",
        "    decoder_state_input_c = Input(shape=(latent_dim, ))\n",
        "    decoder_hidden_state_input = Input(shape=(max_text_len, latent_dim))\n",
        "\n",
        "    # Get the embeddings of the decoder sequence\n",
        "    decoder_embedding = decoder_embedding_layer(decoder_input)\n",
        "\n",
        "    # To predict the next word in the sequence, set the initial\n",
        "    # states to the states from the previous time step\n",
        "    decoder_output, *decoder_states = last_decoder_lstm(\n",
        "        decoder_embedding,\n",
        "        initial_state=[decoder_state_input_h, decoder_state_input_c]\n",
        "    )\n",
        "\n",
        "    # A dense softmax layer to generate prob dist. over the target vocabulary\n",
        "    decoder_output = decoder_dense(decoder_output)\n",
        "\n",
        "    # Final decoder model\n",
        "    decoder_model = Model(\n",
        "        [decoder_input] + [decoder_hidden_state_input, decoder_state_input_h, decoder_state_input_c], \n",
        "        [decoder_output] + decoder_states\n",
        "    )\n",
        "\n",
        "    return (encoder_model, decoder_model)"
      ],
      "metadata": {
        "id": "EVSzWn6FVH4f"
      },
      "execution_count": 41,
      "outputs": []
    },
    {
      "cell_type": "code",
      "source": [
        "encoder_model, decoder_model = build_seq2seq_model_lstm_inference(\n",
        "    max_text_len, latent_dim, encoder_input, encoder_output,\n",
        "    encoder_final_states, decoder_input, decoder_output,\n",
        "    decoder_embedding_layer, decoder_dense, last_decoder_lstm\n",
        ")"
      ],
      "metadata": {
        "id": "zwW_c67eVH8G"
      },
      "execution_count": 42,
      "outputs": []
    },
    {
      "cell_type": "code",
      "source": [
        "encoder_model.summary()"
      ],
      "metadata": {
        "id": "Yb1byAYEVZNg",
        "outputId": "6c0eeaca-d582-4c52-f63c-f3a9fb08fa86",
        "colab": {
          "base_uri": "https://localhost:8080/"
        }
      },
      "execution_count": 43,
      "outputs": [
        {
          "output_type": "stream",
          "name": "stdout",
          "text": [
            "Model: \"model_1\"\n",
            "_________________________________________________________________\n",
            " Layer (type)                Output Shape              Param #   \n",
            "=================================================================\n",
            " input_1 (InputLayer)        [(None, 60)]              0         \n",
            "                                                                 \n",
            " embedding (Embedding)       (None, 60, 100)           10181800  \n",
            "                                                                 \n",
            " lstm (LSTM)                 [(None, 60, 240),         327360    \n",
            "                              (None, 240),                       \n",
            "                              (None, 240)]                       \n",
            "                                                                 \n",
            " lstm_1 (LSTM)               [(None, 60, 240),         461760    \n",
            "                              (None, 240),                       \n",
            "                              (None, 240)]                       \n",
            "                                                                 \n",
            "=================================================================\n",
            "Total params: 10,970,920\n",
            "Trainable params: 789,120\n",
            "Non-trainable params: 10,181,800\n",
            "_________________________________________________________________\n"
          ]
        }
      ]
    },
    {
      "cell_type": "code",
      "source": [
        "decoder_model.summary()"
      ],
      "metadata": {
        "id": "mMypKdlnVZQR",
        "outputId": "a34df780-6146-43d2-e6da-1204cd48ec6a",
        "colab": {
          "base_uri": "https://localhost:8080/"
        }
      },
      "execution_count": 44,
      "outputs": [
        {
          "output_type": "stream",
          "name": "stdout",
          "text": [
            "Model: \"model_2\"\n",
            "__________________________________________________________________________________________________\n",
            " Layer (type)                   Output Shape         Param #     Connected to                     \n",
            "==================================================================================================\n",
            " input_2 (InputLayer)           [(None, None)]       0           []                               \n",
            "                                                                                                  \n",
            " embedding_1 (Embedding)        (None, None, 100)    3807200     ['input_2[0][0]']                \n",
            "                                                                                                  \n",
            " input_3 (InputLayer)           [(None, 240)]        0           []                               \n",
            "                                                                                                  \n",
            " input_4 (InputLayer)           [(None, 240)]        0           []                               \n",
            "                                                                                                  \n",
            " lstm_2 (LSTM)                  [(None, None, 240),  327360      ['embedding_1[1][0]',            \n",
            "                                 (None, 240),                     'input_3[0][0]',                \n",
            "                                 (None, 240)]                     'input_4[0][0]']                \n",
            "                                                                                                  \n",
            " input_5 (InputLayer)           [(None, 60, 240)]    0           []                               \n",
            "                                                                                                  \n",
            " time_distributed (TimeDistribu  (None, None, 38072)  9175352    ['lstm_2[1][0]']                 \n",
            " ted)                                                                                             \n",
            "                                                                                                  \n",
            "==================================================================================================\n",
            "Total params: 13,309,912\n",
            "Trainable params: 13,309,912\n",
            "Non-trainable params: 0\n",
            "__________________________________________________________________________________________________\n"
          ]
        }
      ]
    },
    {
      "cell_type": "code",
      "source": [
        "decoder_model.layers[-3].input"
      ],
      "metadata": {
        "id": "cflKpfwhVqpO",
        "outputId": "bf430d50-e388-42c0-da48-dd688f76c78d",
        "colab": {
          "base_uri": "https://localhost:8080/"
        }
      },
      "execution_count": 45,
      "outputs": [
        {
          "output_type": "execute_result",
          "data": {
            "text/plain": [
              "[<KerasTensor: shape=(None, None, 100) dtype=float32 (created by layer 'embedding_1')>,\n",
              " <KerasTensor: shape=(None, 240) dtype=float32 (created by layer 'lstm_1')>,\n",
              " <KerasTensor: shape=(None, 240) dtype=float32 (created by layer 'lstm_1')>]"
            ]
          },
          "metadata": {},
          "execution_count": 45
        }
      ]
    },
    {
      "cell_type": "code",
      "source": [
        "def decode_sequence_seq2seq_model_lstm(\n",
        "    input_sequence, encoder_model, decoder_model\n",
        "):\n",
        "    # Encode the input as state vectors.\n",
        "    e_out, e_h, e_c = encoder_model.predict(input_sequence)\n",
        "\n",
        "    # Generate empty target sequence of length 1.\n",
        "    target_seq = np.zeros((1, 1))\n",
        "\n",
        "    # Populate the first word of target sequence with the start word.\n",
        "    target_seq[0, 0] = target_word_index[start_token]\n",
        "\n",
        "    stop_condition = False\n",
        "    decoded_sentence = ''\n",
        "\n",
        "    while not stop_condition:\n",
        "        output_tokens, h, c = decoder_model.predict(\n",
        "            [target_seq] + [e_out, e_h, e_c]\n",
        "        )\n",
        "\n",
        "        # Sample a token\n",
        "        sampled_token_index = np.argmax(output_tokens[0, -1, :])\n",
        "        sampled_token = reverse_target_word_index[sampled_token_index]\n",
        "\n",
        "        if sampled_token != end_token:\n",
        "            decoded_sentence += ' ' + sampled_token\n",
        "\n",
        "        # Exit condition: either hit max length or find stop word.\n",
        "        if (sampled_token == end_token) or (len(decoded_sentence.split()) >= (max_summary_len - 1)):\n",
        "            stop_condition = True\n",
        "\n",
        "        # Update the target sequence (of length 1).\n",
        "        target_seq = np.zeros((1, 1))\n",
        "        target_seq[0, 0] = sampled_token_index\n",
        "\n",
        "        # Update internal states\n",
        "        e_h, e_c = h, c\n",
        "\n",
        "    return decoded_sentence"
      ],
      "metadata": {
        "id": "D9m_wHwZVqt5"
      },
      "execution_count": 46,
      "outputs": []
    },
    {
      "cell_type": "code",
      "source": [
        "def seq2summary(input_sequence):\n",
        "    new_string = ''\n",
        "    for i in input_sequence:\n",
        "        if (\n",
        "            (i != 0 and i != target_word_index[start_token]) and\n",
        "            (i != target_word_index[end_token])\n",
        "        ):\n",
        "            new_string = new_string + reverse_target_word_index[i] + ' '\n",
        "    return new_string"
      ],
      "metadata": {
        "id": "fXhAv6FCVqyo"
      },
      "execution_count": 47,
      "outputs": []
    },
    {
      "cell_type": "code",
      "source": [
        "def seq2text(input_sequence):\n",
        "    new_string = ''\n",
        "    for i in input_sequence:\n",
        "        if i != 0:\n",
        "            new_string = new_string + reverse_source_word_index[i] + ' '\n",
        "    return new_string"
      ],
      "metadata": {
        "id": "iMF4-2l4WBnR"
      },
      "execution_count": 48,
      "outputs": []
    },
    {
      "cell_type": "code",
      "source": [
        "l = [1, 2, 3, 4, 5, 6, 7, 8, 9, 10]\n",
        "\n",
        "if len(l) % 3 != 0:\n",
        "    while len(l) % 3 != 0:\n",
        "        l.append(0)\n",
        "print(l)\n",
        "\n",
        "lst_i = 3\n",
        "for i in range(0, len(l), 3):\n",
        "    print(l[i:i + lst_i])\n",
        "\n",
        "print(' '.join(['', 'james', 'ethan', '', 'tony']))\n",
        "print(' '.join(' '.join(['', 'james', 'ethan', '', 'tony']).split()))"
      ],
      "metadata": {
        "id": "VFgCGvsjWBw3",
        "outputId": "d0122512-0566-4dd6-bb06-c8043df8476c",
        "colab": {
          "base_uri": "https://localhost:8080/"
        }
      },
      "execution_count": 49,
      "outputs": [
        {
          "output_type": "stream",
          "name": "stdout",
          "text": [
            "[1, 2, 3, 4, 5, 6, 7, 8, 9, 10, 0, 0]\n",
            "[1, 2, 3]\n",
            "[4, 5, 6]\n",
            "[7, 8, 9]\n",
            "[10, 0, 0]\n",
            " james ethan  tony\n",
            "james ethan tony\n"
          ]
        }
      ]
    },
    {
      "cell_type": "code",
      "source": [
        "def predict_text(text, decode_sequence, encoder_model, decoder_model):\n",
        "    original_text = text\n",
        "    text = clean_text([text])  # generator\n",
        "    text_list = original_text.split()\n",
        "\n",
        "    if len(text_list) <= max_text_len:\n",
        "        text = expand_contractions(text)\n",
        "        text = clean_text(text)\n",
        "        text = f'_START_ {text} _END_'\n",
        "        text = f'{start_token} {text} {end_token}'\n",
        "\n",
        "        seq = x_tokenizer.texts_to_sequences([' '.join(text_list)])\n",
        "        padded = pad_sequences(seq, maxlen=max_text_len, padding='post')\n",
        "        pred_summary = decode_sequence(\n",
        "            padded.reshape(1, max_text_len), encoder_model, decoder_model\n",
        "        )\n",
        "        return pred_summary\n",
        "    else:\n",
        "        pred_summary = ''\n",
        "\n",
        "        # breaking long texts to individual max_text_len texts and predicting on them\n",
        "        while len(text_list) % max_text_len == 0:\n",
        "            text_list.append('')\n",
        "\n",
        "        lst_i = max_text_len\n",
        "        for i in range(0, len(text_list), max_text_len):\n",
        "            _text_list = original_text.split()[i:i + lst_i]\n",
        "            _text = ' '.join(_text_list)\n",
        "            _text = ' '.join(\n",
        "                _text.split()\n",
        "            )  # to remove spaces that were added to make len(text_list) % max_text_len == 0\n",
        "\n",
        "            _text = expand_contractions(_text)\n",
        "            _text = clean_text(_text)  # generator\n",
        "            _text = f'_START_ {_text} _END_'\n",
        "            _text = f'{start_token} {_text} {end_token}'\n",
        "            # print(_text, '\\n')\n",
        "\n",
        "            _seq = x_tokenizer.texts_to_sequences([_text])\n",
        "            _padded = pad_sequences(_seq, maxlen=max_text_len, padding='post')\n",
        "            _pred = decode_sequence(\n",
        "                _padded.reshape(1, max_text_len), encoder_model, decoder_model\n",
        "            )\n",
        "            pred_summary += ' ' + ' '.join(_pred.split()[1:-2])\n",
        "            pred_summary = ' '.join(pred_summary.split())\n",
        "\n",
        "        return pred_summary"
      ],
      "metadata": {
        "id": "8E11k5CmWB0f"
      },
      "execution_count": 53,
      "outputs": []
    },
    {
      "cell_type": "code",
      "source": [
        "for i in range(0, 15):\n",
        "    print(f\"# {i+1} News: \", seq2text(x_train_padded[i]))\n",
        "    print(\"Original summary: \", seq2summary(y_train_padded[i]))\n",
        "    print(\n",
        "        \"Predicted summary: \",\n",
        "        decode_sequence_seq2seq_model_lstm(\n",
        "            x_train_padded[i].reshape(1, max_text_len), encoder_model,\n",
        "            decoder_model\n",
        "        )\n",
        "    )\n",
        "    print()"
      ],
      "metadata": {
        "id": "r4xH0evYacXf",
        "outputId": "364898c5-93f2-47af-8dc4-7a4386d5abef",
        "colab": {
          "base_uri": "https://localhost:8080/"
        }
      },
      "execution_count": 55,
      "outputs": [
        {
          "output_type": "stream",
          "name": "stdout",
          "text": [
            "# 1 News:  japanbased scientists found mice suffered bone loss infected malaria parasites young mice bones also grew slower normal result animals thigh bones shorter uninfected counterparts researchers said suggested vitamin derivative treats osteoporosis curbing bonedeteriorating mechanism \n",
            "Original summary:  start malaria found weaken mice skeleton study end \n",
            "1/1 [==============================] - 1s 906ms/step\n",
            "1/1 [==============================] - 0s 401ms/step\n",
            "1/1 [==============================] - 0s 51ms/step\n",
            "1/1 [==============================] - 0s 47ms/step\n",
            "1/1 [==============================] - 0s 51ms/step\n",
            "1/1 [==============================] - 0s 50ms/step\n",
            "1/1 [==============================] - 0s 49ms/step\n",
            "1/1 [==============================] - 0s 51ms/step\n",
            "1/1 [==============================] - 0s 50ms/step\n",
            "1/1 [==============================] - 0s 50ms/step\n",
            "1/1 [==============================] - 0s 49ms/step\n",
            "Predicted summary:   start study finds rats animals mice survive study end\n",
            "\n",
            "# 2 News:  home services startup urbanclap recently responded customers complaint facebook form pothem rhyme urbanclap depraved unkind startupthe least expected fck read complaint urbanclap replied fight youin battleto ensure ac still rattle \n",
            "Original summary:  start urbanclap replies customers complaint pothem end \n",
            "1/1 [==============================] - 0s 167ms/step\n",
            "1/1 [==============================] - 0s 73ms/step\n",
            "1/1 [==============================] - 0s 55ms/step\n",
            "1/1 [==============================] - 0s 50ms/step\n",
            "1/1 [==============================] - 0s 49ms/step\n",
            "1/1 [==============================] - 0s 49ms/step\n",
            "1/1 [==============================] - 0s 49ms/step\n",
            "1/1 [==============================] - 0s 50ms/step\n",
            "1/1 [==============================] - 0s 48ms/step\n",
            "1/1 [==============================] - 0s 51ms/step\n",
            "1/1 [==============================] - 0s 49ms/step\n",
            "Predicted summary:   start startup sued aaa1 lakh users call complaint end\n",
            "\n",
            "# 3 News:  french tobacco sellers dumped hundreds carrots outside ministry health paris protest government plans raise cigarette prices aaa aaa coming twoandahalf years interestingly carrot believed symbolise traditional carotte de tabac tobacco signs found outside cigarette stores france \n",
            "Original summary:  start french tobacco sellers protest dumping carrots streets end \n",
            "1/1 [==============================] - 0s 157ms/step\n",
            "1/1 [==============================] - 0s 64ms/step\n",
            "1/1 [==============================] - 0s 52ms/step\n",
            "1/1 [==============================] - 0s 49ms/step\n",
            "1/1 [==============================] - 0s 61ms/step\n",
            "1/1 [==============================] - 0s 58ms/step\n",
            "1/1 [==============================] - 0s 51ms/step\n",
            "1/1 [==============================] - 0s 50ms/step\n",
            "1/1 [==============================] - 0s 48ms/step\n",
            "1/1 [==============================] - 0s 48ms/step\n",
            "Predicted summary:   start french eatery shuts sale plastic straws end\n",
            "\n",
            "# 4 News:  man uks devon county handed wwii artillery shell police using doorstop years bomb disposal experts royal navy attended shell confirmed live authorities devon received weapons rounds ammunition part weapons amnesty \n",
            "Original summary:  start uk man used wwii shell doorstop years end \n",
            "1/1 [==============================] - 0s 155ms/step\n",
            "1/1 [==============================] - 0s 58ms/step\n",
            "1/1 [==============================] - 0s 52ms/step\n",
            "1/1 [==============================] - 0s 52ms/step\n",
            "1/1 [==============================] - 0s 49ms/step\n",
            "1/1 [==============================] - 0s 51ms/step\n",
            "1/1 [==============================] - 0s 50ms/step\n",
            "1/1 [==============================] - 0s 50ms/step\n",
            "1/1 [==============================] - 0s 49ms/step\n",
            "1/1 [==============================] - 0s 49ms/step\n",
            "1/1 [==============================] - 0s 49ms/step\n",
            "1/1 [==============================] - 0s 48ms/step\n",
            "Predicted summary:   start man gets ied bomb near syria chthemical weapons end\n",
            "\n",
            "# 5 News:  congratulating indian cricket team odi series win australia anushka sharma posted picture team india wrote happy witnessed historic victories menhuge congratulations unforgettable outstanding tour wrote india became first visiting side win bilateral series three formats australia \n",
            "Original summary:  start historic victories anushka indias odiaaaseries win aus end \n",
            "1/1 [==============================] - 0s 148ms/step\n",
            "1/1 [==============================] - 0s 60ms/step\n",
            "1/1 [==============================] - 0s 51ms/step\n",
            "1/1 [==============================] - 0s 53ms/step\n",
            "1/1 [==============================] - 0s 48ms/step\n",
            "1/1 [==============================] - 0s 49ms/step\n",
            "1/1 [==============================] - 0s 49ms/step\n",
            "1/1 [==============================] - 0s 57ms/step\n",
            "1/1 [==============================] - 0s 48ms/step\n",
            "1/1 [==============================] - 0s 48ms/step\n",
            "1/1 [==============================] - 0s 49ms/step\n",
            "1/1 [==============================] - 0s 48ms/step\n",
            "Predicted summary:   start india win best world cup victory tweets user end\n",
            "\n",
            "# 6 News:  indian womens cricket team defeated south african womens team wickets clinch womens quadrangular odi series sunday batting first sa bundled jhulan goswami poonam yadav picking three wickets reply punam rauts ball mithali rajs ball helped india win overs \n",
            "Original summary:  start indian women defeat sa clinch quadrangular series end \n",
            "1/1 [==============================] - 0s 144ms/step\n",
            "1/1 [==============================] - 0s 55ms/step\n",
            "1/1 [==============================] - 0s 48ms/step\n",
            "1/1 [==============================] - 0s 50ms/step\n",
            "1/1 [==============================] - 0s 49ms/step\n",
            "1/1 [==============================] - 0s 47ms/step\n",
            "1/1 [==============================] - 0s 53ms/step\n",
            "1/1 [==============================] - 0s 49ms/step\n",
            "1/1 [==============================] - 0s 49ms/step\n",
            "1/1 [==============================] - 0s 47ms/step\n",
            "1/1 [==============================] - 0s 51ms/step\n",
            "Predicted summary:   start indian womens team chase odis womens cricket end\n",
            "\n",
            "# 7 News:  eight people booked allegedly sedating raping yearold girl bengaluru girl worked private firm developed friendship one accused kidnapped took coconut farm raped sedated called friends jointly repeated cruelty police said \n",
            "Original summary:  start friend among booked sedating raping yearold girl end \n",
            "1/1 [==============================] - 0s 143ms/step\n",
            "1/1 [==============================] - 0s 57ms/step\n",
            "1/1 [==============================] - 0s 50ms/step\n",
            "1/1 [==============================] - 0s 49ms/step\n",
            "1/1 [==============================] - 0s 50ms/step\n",
            "1/1 [==============================] - 0s 49ms/step\n",
            "1/1 [==============================] - 0s 50ms/step\n",
            "1/1 [==============================] - 0s 51ms/step\n",
            "1/1 [==============================] - 0s 50ms/step\n",
            "1/1 [==============================] - 0s 50ms/step\n",
            "Predicted summary:   start minor girl raped bengaluru girl rescued end\n",
            "\n",
            "# 8 News:  kobe steel components used japanaaas bullet trains failed industry standards officials said thursday two companies operating highspeed shinkansen trains said found kobe steel parts fell short quality tests though donaaat pose safety concerns earlier week kobe steel said products used companies certified falsified data \n",
            "Original summary:  start japan bullet train parts kobe steel failed quality tests end \n",
            "1/1 [==============================] - 0s 145ms/step\n",
            "1/1 [==============================] - 0s 64ms/step\n",
            "1/1 [==============================] - 0s 52ms/step\n",
            "1/1 [==============================] - 0s 50ms/step\n",
            "1/1 [==============================] - 0s 50ms/step\n",
            "1/1 [==============================] - 0s 49ms/step\n",
            "1/1 [==============================] - 0s 50ms/step\n",
            "1/1 [==============================] - 0s 49ms/step\n",
            "1/1 [==============================] - 0s 51ms/step\n",
            "1/1 [==============================] - 0s 49ms/step\n",
            "1/1 [==============================] - 0s 52ms/step\n",
            "1/1 [==============================] - 0s 48ms/step\n",
            "1/1 [==============================] - 0s 50ms/step\n",
            "Predicted summary:   start metal metal steel collapses due metal steel plant leak end\n",
            "\n",
            "# 9 News:  criticising ruling regime former military ruler pakistan general retired pervez musharraf said prime minister nawaz sharif miserably adding due actions uspakistan religious militancy born former pakistan president said blaming country terrorism right country suffers \n",
            "Original summary:  start nawaz sharif miserably musharraf end \n",
            "1/1 [==============================] - 0s 141ms/step\n",
            "1/1 [==============================] - 0s 69ms/step\n",
            "1/1 [==============================] - 0s 51ms/step\n",
            "1/1 [==============================] - 0s 51ms/step\n",
            "1/1 [==============================] - 0s 49ms/step\n",
            "1/1 [==============================] - 0s 50ms/step\n",
            "1/1 [==============================] - 0s 50ms/step\n",
            "1/1 [==============================] - 0s 49ms/step\n",
            "1/1 [==============================] - 0s 49ms/step\n",
            "Predicted summary:   start pak pm sharif calls musharraf end\n",
            "\n",
            "# 10 News:  french startup evone unveiled shoes falling alerts consumer electronics show ces notifies family medical services user takes fall shoes feature gps accelerometer pressure systthem activates alarm someone wears ththem designed elderly people construction workers hikers among others according startup \n",
            "Original summary:  start startup develops shoes sends alerts user falls end \n",
            "1/1 [==============================] - 0s 150ms/step\n",
            "1/1 [==============================] - 0s 62ms/step\n",
            "1/1 [==============================] - 0s 51ms/step\n",
            "1/1 [==============================] - 0s 51ms/step\n",
            "1/1 [==============================] - 0s 51ms/step\n",
            "1/1 [==============================] - 0s 51ms/step\n",
            "1/1 [==============================] - 0s 50ms/step\n",
            "1/1 [==============================] - 0s 51ms/step\n",
            "1/1 [==============================] - 0s 51ms/step\n",
            "1/1 [==============================] - 0s 49ms/step\n",
            "1/1 [==============================] - 0s 53ms/step\n",
            "Predicted summary:   start startup makes clothes alerts users fall made end\n",
            "\n",
            "# 11 News:  many mthembers mthember special investigation team sit probing murder journalist gauri lankesh asked go back original postings according reports earlier sit released three sketches two suspected murderers based eyewitness accounts around people interrogated case \n",
            "Original summary:  start sit probing gauri lankeshs murder reduced strength end \n",
            "1/1 [==============================] - 0s 149ms/step\n",
            "1/1 [==============================] - 0s 54ms/step\n",
            "1/1 [==============================] - 0s 51ms/step\n",
            "1/1 [==============================] - 0s 47ms/step\n",
            "1/1 [==============================] - 0s 52ms/step\n",
            "1/1 [==============================] - 0s 48ms/step\n",
            "1/1 [==============================] - 0s 52ms/step\n",
            "1/1 [==============================] - 0s 49ms/step\n",
            "1/1 [==============================] - 0s 50ms/step\n",
            "1/1 [==============================] - 0s 50ms/step\n",
            "1/1 [==============================] - 0s 51ms/step\n",
            "Predicted summary:   start sit sit sit probe lankeshs murder case end\n",
            "\n",
            "# 12 News:  usbased retail giant wal talks buy stake homegrown ecommerce startup flipkart according reports earlier reports suggested flipkarts valuation may double billion wal invests company wal might invest billion substantial stake would make one largest crossborder deals india \n",
            "Original summary:  start wal talks buy stake flipkart reports end \n",
            "1/1 [==============================] - 0s 156ms/step\n",
            "1/1 [==============================] - 0s 53ms/step\n",
            "1/1 [==============================] - 0s 51ms/step\n",
            "1/1 [==============================] - 0s 50ms/step\n",
            "1/1 [==============================] - 0s 50ms/step\n",
            "1/1 [==============================] - 0s 50ms/step\n",
            "1/1 [==============================] - 0s 47ms/step\n",
            "1/1 [==============================] - 0s 48ms/step\n",
            "1/1 [==============================] - 0s 47ms/step\n",
            "1/1 [==============================] - 0s 51ms/step\n",
            "Predicted summary:   start wal talks buy flipkart stake report end\n",
            "\n",
            "# 13 News:  actor farhan akhtar tweeted film featuring tennis player sania mirza father imran mirza release soon part social awareness campaign men rape discrimination sania earlier said video send strong message equate dter curse \n",
            "Original summary:  start sanias film father campaign release soon end \n",
            "1/1 [==============================] - 0s 151ms/step\n",
            "1/1 [==============================] - 0s 66ms/step\n",
            "1/1 [==============================] - 0s 52ms/step\n",
            "1/1 [==============================] - 0s 61ms/step\n",
            "1/1 [==============================] - 0s 48ms/step\n",
            "1/1 [==============================] - 0s 49ms/step\n",
            "1/1 [==============================] - 0s 47ms/step\n",
            "1/1 [==============================] - 0s 47ms/step\n",
            "1/1 [==============================] - 0s 47ms/step\n",
            "1/1 [==============================] - 0s 49ms/step\n",
            "1/1 [==============================] - 0s 49ms/step\n",
            "1/1 [==============================] - 0s 50ms/step\n",
            "Predicted summary:   start sania mirza shares pic sets world sania mirza end\n",
            "\n",
            "# 14 News:  income tax department announced three reward schthemes people get rewards amounting aaa1 crore provide information tax evasion person get aaa1 crore giving specific information benami transaction property aaa1 crore earned sharing information undisclosed black money stored abroad \n",
            "Original summary:  start govt give rewards aaa1 crore info tax evasion end \n",
            "1/1 [==============================] - 0s 167ms/step\n",
            "1/1 [==============================] - 0s 59ms/step\n",
            "1/1 [==============================] - 0s 49ms/step\n",
            "1/1 [==============================] - 0s 47ms/step\n",
            "1/1 [==============================] - 0s 47ms/step\n",
            "1/1 [==============================] - 0s 51ms/step\n",
            "1/1 [==============================] - 0s 49ms/step\n",
            "1/1 [==============================] - 0s 47ms/step\n",
            "1/1 [==============================] - 0s 49ms/step\n",
            "1/1 [==============================] - 0s 49ms/step\n",
            "1/1 [==============================] - 0s 48ms/step\n",
            "1/1 [==============================] - 0s 51ms/step\n",
            "Predicted summary:   start dept detects tax evasion aaa1 crore tax evasion end\n",
            "\n",
            "# 15 News:  japans defence ministry sought record budget next year upgrade major defences amid nuclear missile threats north korea draft budget raised countrys military spending billion budget request includes purchasing two usmade antiballistic missile defence systthems shiptoair sm block iia interceptor \n",
            "Original summary:  start japan seeks record defence budget amid threat korea end \n",
            "1/1 [==============================] - 0s 140ms/step\n",
            "1/1 [==============================] - 0s 67ms/step\n",
            "1/1 [==============================] - 0s 61ms/step\n",
            "1/1 [==============================] - 0s 52ms/step\n",
            "1/1 [==============================] - 0s 50ms/step\n",
            "1/1 [==============================] - 0s 46ms/step\n",
            "1/1 [==============================] - 0s 55ms/step\n",
            "1/1 [==============================] - 0s 49ms/step\n",
            "1/1 [==============================] - 0s 51ms/step\n",
            "Predicted summary:   start china seeks billion military equipment end\n",
            "\n"
          ]
        }
      ]
    },
    {
      "cell_type": "code",
      "source": [
        "for i in range(0, 15):\n",
        "    print(f\"# {i+1} News: \", seq2text(x_val_padded[i]))\n",
        "    print(\"Original summary: \", seq2summary(y_val_padded[i]))\n",
        "    print(\n",
        "        \"Predicted summary: \",\n",
        "        decode_sequence_seq2seq_model_lstm(\n",
        "            x_val_padded[i].reshape(1, max_text_len), encoder_model,\n",
        "            decoder_model\n",
        "        )\n",
        "    )\n",
        "    print()"
      ],
      "metadata": {
        "id": "sy9sOGi7acZt",
        "outputId": "efea6652-4670-471e-ed66-6bc909490288",
        "colab": {
          "base_uri": "https://localhost:8080/"
        }
      },
      "execution_count": 57,
      "outputs": [
        {
          "output_type": "stream",
          "name": "stdout",
          "text": [
            "# 1 News:  singapores sovereign wealth fund gic agreed buy office tower la business district million aaa1 crore fund buying storey tour ariane gross area square meters french real estate firm gic manages assets worth billion countries \n",
            "Original summary:  start singapore wealth fund buys paris office tower aaa1 cr end \n",
            "1/1 [==============================] - 0s 226ms/step\n",
            "1/1 [==============================] - 0s 74ms/step\n",
            "1/1 [==============================] - 0s 54ms/step\n",
            "1/1 [==============================] - 0s 51ms/step\n",
            "1/1 [==============================] - 0s 48ms/step\n",
            "1/1 [==============================] - 0s 47ms/step\n",
            "1/1 [==============================] - 0s 55ms/step\n",
            "1/1 [==============================] - 0s 49ms/step\n",
            "1/1 [==============================] - 0s 51ms/step\n",
            "1/1 [==============================] - 0s 61ms/step\n",
            "Predicted summary:   start oyo invest aaa1 crore aamby valley end\n",
            "\n",
            "# 2 News:  congress president rahul gandhi claimed suprtheme court order aadhaar supported partys vision bjp chief amit shah jokingly tweeted yes congress today like lok sabha polls tweeted congress tried mislead people various grounds including privacy \n",
            "Original summary:  start cong today like shah rahul aadhaar ruling end \n",
            "1/1 [==============================] - 0s 166ms/step\n",
            "1/1 [==============================] - 0s 59ms/step\n",
            "1/1 [==============================] - 0s 59ms/step\n",
            "1/1 [==============================] - 0s 62ms/step\n",
            "1/1 [==============================] - 0s 55ms/step\n",
            "1/1 [==============================] - 0s 54ms/step\n",
            "1/1 [==============================] - 0s 52ms/step\n",
            "1/1 [==============================] - 0s 62ms/step\n",
            "1/1 [==============================] - 0s 49ms/step\n",
            "1/1 [==============================] - 0s 47ms/step\n",
            "Predicted summary:   start rahul gandhi slams congress congress leaders end\n",
            "\n",
            "# 3 News:  leader militant outfit hizbul mujahideen warned hurriyat leaders heads chopped hung srinagars lal chowk comes hurriyat said struggle people kashmir political struggle religious one message delivered video clip called ratist leaders infidels \n",
            "Original summary:  start cut heads hang ththem jk militants hurriyat end \n",
            "1/1 [==============================] - 0s 156ms/step\n",
            "1/1 [==============================] - 0s 62ms/step\n",
            "1/1 [==============================] - 0s 51ms/step\n",
            "1/1 [==============================] - 0s 48ms/step\n",
            "1/1 [==============================] - 0s 58ms/step\n",
            "1/1 [==============================] - 0s 50ms/step\n",
            "1/1 [==============================] - 0s 57ms/step\n",
            "1/1 [==============================] - 0s 49ms/step\n",
            "1/1 [==============================] - 0s 50ms/step\n",
            "1/1 [==============================] - 0s 47ms/step\n",
            "Predicted summary:   start hizbul leaders kashmir kashmir issue rss end\n",
            "\n",
            "# 4 News:  oneplus supports google lens functionality camera app feature usually available phones run stock android google lens visual search tool turns phones camera virtual eye find products online see similar styles identify popular plants animals learn lands \n",
            "Original summary:  start oneplus comes integrated google lens end \n",
            "1/1 [==============================] - 0s 166ms/step\n",
            "1/1 [==============================] - 0s 61ms/step\n",
            "1/1 [==============================] - 0s 53ms/step\n",
            "1/1 [==============================] - 0s 47ms/step\n",
            "1/1 [==============================] - 0s 50ms/step\n",
            "1/1 [==============================] - 0s 51ms/step\n",
            "1/1 [==============================] - 0s 51ms/step\n",
            "1/1 [==============================] - 0s 50ms/step\n",
            "1/1 [==============================] - 0s 51ms/step\n",
            "1/1 [==============================] - 0s 51ms/step\n",
            "1/1 [==============================] - 0s 50ms/step\n",
            "Predicted summary:   start google rolls feature let users control camera end\n",
            "\n",
            "# 5 News:  delhi daredevils player chris morris recorded strike rate fourthhighest ts player scoring runs rising pune supergiant ipl tuesday morris smashed knock including four fours three sixes without dot balls singles innings also fastest ipl innings runs \n",
            "Original summary:  start dds records th highest innings strike rate ever end \n",
            "1/1 [==============================] - 0s 158ms/step\n",
            "1/1 [==============================] - 0s 61ms/step\n",
            "1/1 [==============================] - 0s 64ms/step\n",
            "1/1 [==============================] - 0s 50ms/step\n",
            "1/1 [==============================] - 0s 47ms/step\n",
            "1/1 [==============================] - 0s 55ms/step\n",
            "1/1 [==============================] - 0s 48ms/step\n",
            "1/1 [==============================] - 0s 50ms/step\n",
            "1/1 [==============================] - 0s 48ms/step\n",
            "1/1 [==============================] - 0s 48ms/step\n",
            "Predicted summary:   start yearold hits record ipl record ipl end\n",
            "\n",
            "# 6 News:  yash raj films ceo uday chopra confirmed los angelesbased production house yrf entertainment coproducer jessica chastain starrer seducing along jessicas company films film revolve around romance war photographer robert capa started following world war ii known role \n",
            "Original summary:  start uday chopra confirms yrf produce jessica film end \n",
            "1/1 [==============================] - 0s 146ms/step\n",
            "1/1 [==============================] - 0s 61ms/step\n",
            "1/1 [==============================] - 0s 63ms/step\n",
            "1/1 [==============================] - 0s 49ms/step\n",
            "1/1 [==============================] - 0s 48ms/step\n",
            "1/1 [==============================] - 0s 47ms/step\n",
            "1/1 [==============================] - 0s 48ms/step\n",
            "1/1 [==============================] - 0s 57ms/step\n",
            "1/1 [==============================] - 0s 47ms/step\n",
            "1/1 [==============================] - 0s 51ms/step\n",
            "1/1 [==============================] - 0s 50ms/step\n",
            "1/1 [==============================] - 0s 49ms/step\n",
            "Predicted summary:   start sanjay dutt alia bhatt star together film reports end\n",
            "\n",
            "# 7 News:  speaking talking teammates following indias loss sri lanka champions trophy indian captain virat kohli said honest sometimes say things hurt im good captain take team forward win world cup believe love kohli said captaincy \n",
            "Original summary:  start sometimes say things hurt virat kohli end \n",
            "1/1 [==============================] - 0s 137ms/step\n",
            "1/1 [==============================] - 0s 58ms/step\n",
            "1/1 [==============================] - 0s 49ms/step\n",
            "1/1 [==============================] - 0s 48ms/step\n",
            "1/1 [==============================] - 0s 49ms/step\n",
            "1/1 [==============================] - 0s 49ms/step\n",
            "1/1 [==============================] - 0s 48ms/step\n",
            "1/1 [==============================] - 0s 49ms/step\n",
            "1/1 [==============================] - 0s 50ms/step\n",
            "1/1 [==============================] - 0s 50ms/step\n",
            "Predicted summary:   start everyone lot lot lot kohli kohli end\n",
            "\n",
            "# 8 News:  yearold farmer maharashtra participated twoday kisan rally delhi dthemand loan waiver rthemunerative prices crop died accidentally fell building national capital rushed nearby hospital ared brought dead prima facie evidence reveals foul play police said \n",
            "Original summary:  start farmer part delhis kisan rally dies falling building end \n",
            "1/1 [==============================] - 0s 156ms/step\n",
            "1/1 [==============================] - 0s 67ms/step\n",
            "1/1 [==============================] - 0s 50ms/step\n",
            "1/1 [==============================] - 0s 48ms/step\n",
            "1/1 [==============================] - 0s 47ms/step\n",
            "1/1 [==============================] - 0s 49ms/step\n",
            "1/1 [==============================] - 0s 49ms/step\n",
            "1/1 [==============================] - 0s 47ms/step\n",
            "1/1 [==============================] - 0s 46ms/step\n",
            "1/1 [==============================] - 0s 50ms/step\n",
            "1/1 [==============================] - 0s 46ms/step\n",
            "1/1 [==============================] - 0s 49ms/step\n",
            "Predicted summary:   start farmer dies falling ill aaa1 cr loan waiver end\n",
            "\n",
            "# 9 News:  instead assigning holiday homework students school coimbatore asked parents spend time children activities meals together sharing stories visiting neighbours holiday assignment parents also asked ththem look eyes little one thank god giving one wonderful gift \n",
            "Original summary:  start school gives holiday homework parents instead students end \n",
            "1/1 [==============================] - 0s 151ms/step\n",
            "1/1 [==============================] - 0s 60ms/step\n",
            "1/1 [==============================] - 0s 46ms/step\n",
            "1/1 [==============================] - 0s 46ms/step\n",
            "1/1 [==============================] - 0s 49ms/step\n",
            "1/1 [==============================] - 0s 48ms/step\n",
            "1/1 [==============================] - 0s 45ms/step\n",
            "1/1 [==============================] - 0s 45ms/step\n",
            "1/1 [==============================] - 0s 48ms/step\n",
            "Predicted summary:   start kids celebrate kids celebrate wedding end\n",
            "\n",
            "# 10 News:  priya prakash varrier got famous wink song manikya malaraya poovi became viral said gets bored people ask wink even today wherever go ask think winked least times request added priya said wonders people saw wink \n",
            "Original summary:  start winked least times request priya prakash varrier end \n",
            "1/1 [==============================] - 0s 144ms/step\n",
            "1/1 [==============================] - 0s 60ms/step\n",
            "1/1 [==============================] - 0s 51ms/step\n",
            "1/1 [==============================] - 0s 51ms/step\n",
            "1/1 [==============================] - 0s 52ms/step\n",
            "1/1 [==============================] - 0s 46ms/step\n",
            "1/1 [==============================] - 0s 46ms/step\n",
            "1/1 [==============================] - 0s 48ms/step\n",
            "1/1 [==============================] - 0s 50ms/step\n",
            "1/1 [==============================] - 0s 49ms/step\n",
            "1/1 [==============================] - 0s 46ms/step\n",
            "Predicted summary:   start im scared like man singing comedian rgv end\n",
            "\n",
            "# 11 News:  thi actress molested person sitting behind movie theatre mumbai incident took place actress dter following incident filed police complaint accused police later stated accused drunk \n",
            "Original summary:  start thi actress molested mumbai movie theatre end \n",
            "1/1 [==============================] - 0s 153ms/step\n",
            "1/1 [==============================] - 0s 58ms/step\n",
            "1/1 [==============================] - 0s 47ms/step\n",
            "1/1 [==============================] - 0s 49ms/step\n",
            "1/1 [==============================] - 0s 49ms/step\n",
            "1/1 [==============================] - 0s 50ms/step\n",
            "1/1 [==============================] - 0s 52ms/step\n",
            "1/1 [==============================] - 0s 50ms/step\n",
            "1/1 [==============================] - 0s 50ms/step\n",
            "Predicted summary:   start actress molested actress molested actress end\n",
            "\n",
            "# 12 News:  inventor modern frisbee ed asked family mould ashes death family honoured sion ashes moulded limitededition plastic mthemorial flying discs sold fund museum set comprising ashes reportedly sells aaa1 today \n",
            "Original summary:  start ashes modern frisbee inventor frisbee end \n",
            "1/1 [==============================] - 0s 142ms/step\n",
            "1/1 [==============================] - 0s 55ms/step\n",
            "1/1 [==============================] - 0s 49ms/step\n",
            "1/1 [==============================] - 0s 49ms/step\n",
            "1/1 [==============================] - 0s 48ms/step\n",
            "1/1 [==============================] - 0s 48ms/step\n",
            "1/1 [==============================] - 0s 48ms/step\n",
            "1/1 [==============================] - 0s 48ms/step\n",
            "1/1 [==============================] - 0s 48ms/step\n",
            "1/1 [==============================] - 0s 49ms/step\n",
            "Predicted summary:   start artist john cena buys fathers funeral end\n",
            "\n",
            "# 13 News:  former world number one tennis player djokovic halted secondround paris masters match joao sousa help unwell fan reportedly collapsed djokovic serve crowd attendance stadium initially whistled delay clapping serbian tennis player retrieved towel hand spectator \n",
            "Original summary:  start djokovic halts match help unwell fan despite crowd whistles end \n",
            "1/1 [==============================] - 0s 157ms/step\n",
            "1/1 [==============================] - 0s 58ms/step\n",
            "1/1 [==============================] - 0s 46ms/step\n",
            "1/1 [==============================] - 0s 50ms/step\n",
            "1/1 [==============================] - 0s 50ms/step\n",
            "1/1 [==============================] - 0s 45ms/step\n",
            "1/1 [==============================] - 0s 47ms/step\n",
            "1/1 [==============================] - 0s 47ms/step\n",
            "1/1 [==============================] - 0s 48ms/step\n",
            "1/1 [==============================] - 0s 48ms/step\n",
            "Predicted summary:   start tennis player breaks racquet midmatch midmatch end\n",
            "\n",
            "# 14 News:  us parliament friday approved bill fund federal government increase overall spending limits two years bill needs president donald trumps signature would end government shutdown started thursday midnight current government funding expired second us government shutdown three weeks \n",
            "Original summary:  start us parliament passes bill end overnight govt shutdown end \n",
            "1/1 [==============================] - 0s 143ms/step\n",
            "1/1 [==============================] - 0s 54ms/step\n",
            "1/1 [==============================] - 0s 48ms/step\n",
            "1/1 [==============================] - 0s 46ms/step\n",
            "1/1 [==============================] - 0s 48ms/step\n",
            "1/1 [==============================] - 0s 49ms/step\n",
            "1/1 [==============================] - 0s 48ms/step\n",
            "1/1 [==============================] - 0s 46ms/step\n",
            "1/1 [==============================] - 0s 49ms/step\n",
            "1/1 [==============================] - 0s 46ms/step\n",
            "1/1 [==============================] - 0s 46ms/step\n",
            "1/1 [==============================] - 0s 47ms/step\n",
            "1/1 [==============================] - 0s 49ms/step\n",
            "Predicted summary:   start us state secy approves bill trumps bill repeal bill end\n",
            "\n",
            "# 15 News:  russia said built new barracks disputed chain islands near japan russia plans move troops next week housing complexes two four islands known japan northern territories kuril islands russia soviet forces seized islands end world war ii \n",
            "Original summary:  start russia builds new barracks disputed islands near japan end \n",
            "1/1 [==============================] - 0s 147ms/step\n",
            "1/1 [==============================] - 0s 59ms/step\n",
            "1/1 [==============================] - 0s 52ms/step\n",
            "1/1 [==============================] - 0s 48ms/step\n",
            "1/1 [==============================] - 0s 48ms/step\n",
            "1/1 [==============================] - 0s 45ms/step\n",
            "1/1 [==============================] - 0s 44ms/step\n",
            "1/1 [==============================] - 0s 46ms/step\n",
            "1/1 [==============================] - 0s 47ms/step\n",
            "1/1 [==============================] - 0s 51ms/step\n",
            "Predicted summary:   start russia opens new years years ago end\n",
            "\n"
          ]
        }
      ]
    },
    {
      "cell_type": "code",
      "source": [
        "model.save('model.h5')    \n",
        "encoder_model.save('encoder_model.h5')\n",
        "decoder_model.save('decoder_model.h5')"
      ],
      "metadata": {
        "id": "XRZgI4l5cS_m",
        "outputId": "f8808d2b-239a-439d-82d2-a905a8339469",
        "colab": {
          "base_uri": "https://localhost:8080/"
        }
      },
      "execution_count": 58,
      "outputs": [
        {
          "output_type": "stream",
          "name": "stderr",
          "text": [
            "WARNING:tensorflow:Compiled the loaded model, but the compiled metrics have yet to be built. `model.compile_metrics` will be empty until you train or evaluate the model.\n",
            "WARNING:tensorflow:Compiled the loaded model, but the compiled metrics have yet to be built. `model.compile_metrics` will be empty until you train or evaluate the model.\n"
          ]
        }
      ]
    },
    {
      "cell_type": "code",
      "source": [
        "models_info = {\n",
        "    'just_lstm': {\n",
        "        'model': build_seq2seq_model_lstm,\n",
        "        'inference': build_seq2seq_model_lstm_inference,\n",
        "        'decode_sequence': decode_sequence_seq2seq_model_lstm\n",
        "    }\n",
        "}"
      ],
      "metadata": {
        "id": "QKWj_sNScTCM"
      },
      "execution_count": 62,
      "outputs": []
    },
    {
      "cell_type": "code",
      "source": [],
      "metadata": {
        "id": "aqIvHrYwdV3O"
      },
      "execution_count": 71,
      "outputs": []
    },
    {
      "cell_type": "code",
      "source": [],
      "metadata": {
        "id": "UFIfyAKtdV54"
      },
      "execution_count": 71,
      "outputs": []
    },
    {
      "cell_type": "code",
      "source": [],
      "metadata": {
        "id": "-5SdYWT5dV8P"
      },
      "execution_count": 71,
      "outputs": []
    },
    {
      "cell_type": "code",
      "source": [],
      "metadata": {
        "id": "HBMOZ1n7dV-x"
      },
      "execution_count": 71,
      "outputs": []
    },
    {
      "cell_type": "code",
      "source": [],
      "metadata": {
        "id": "MIXRaJnAf_K2"
      },
      "execution_count": 71,
      "outputs": []
    },
    {
      "cell_type": "code",
      "source": [],
      "metadata": {
        "id": "bateKnsef_Nd"
      },
      "execution_count": 71,
      "outputs": []
    },
    {
      "cell_type": "code",
      "source": [],
      "metadata": {
        "id": "U5O4nppof_RU"
      },
      "execution_count": null,
      "outputs": []
    },
    {
      "cell_type": "code",
      "source": [],
      "metadata": {
        "id": "q2WhoFrDf_TZ"
      },
      "execution_count": null,
      "outputs": []
    },
    {
      "cell_type": "code",
      "source": [],
      "metadata": {
        "id": "O9HIy6gdgJc_"
      },
      "execution_count": 71,
      "outputs": []
    },
    {
      "cell_type": "code",
      "source": [],
      "metadata": {
        "id": "XGVb6CpMgJfI"
      },
      "execution_count": null,
      "outputs": []
    },
    {
      "cell_type": "code",
      "source": [],
      "metadata": {
        "id": "OHPp1m9YgJhV"
      },
      "execution_count": null,
      "outputs": []
    },
    {
      "cell_type": "code",
      "source": [],
      "metadata": {
        "id": "6jGSfE-6gJjd"
      },
      "execution_count": null,
      "outputs": []
    }
  ],
  "metadata": {
    "colab": {
      "collapsed_sections": [
        "clSFHJkFNylD"
      ],
      "name": "TPUs in Colab",
      "provenance": [],
      "include_colab_link": true
    },
    "kernelspec": {
      "display_name": "Python 3",
      "name": "python3"
    },
    "accelerator": "TPU",
    "gpuClass": "standard"
  },
  "nbformat": 4,
  "nbformat_minor": 0
}